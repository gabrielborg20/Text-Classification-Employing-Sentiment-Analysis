{
 "cells": [
  {
   "cell_type": "code",
   "execution_count": 1,
   "id": "948253af",
   "metadata": {},
   "outputs": [
    {
     "name": "stdout",
     "output_type": "stream",
     "text": [
      "Importing necessary libraries...\n"
     ]
    }
   ],
   "source": [
    "# Remove the unnecessary print statement for library imports\n",
    "print(\"Importing necessary libraries...\")\n",
    "\n",
    "import datetime\n",
    "import gc\n",
    "import re\n",
    "import string\n",
    "import time\n",
    "import matplotlib.pyplot as plt\n",
    "import numpy as np\n",
    "import pandas as pd\n",
    "import seaborn as sns\n",
    "import nltk\n",
    "import psutil\n",
    "\n",
    "from sklearn.metrics import classification_report, precision_recall_fscore_support\n",
    "from sklearn.model_selection import train_test_split\n",
    "from sklearn.preprocessing import LabelEncoder\n",
    "from sklearn.preprocessing import OneHotEncoder\n",
    "from sklearn.feature_extraction.text import TfidfVectorizer\n",
    "from sklearn.feature_extraction.text import CountVectorizer\n",
    "from sklearn.svm import SVC\n",
    "from sklearn.naive_bayes import MultinomialNB\n",
    "from sklearn.linear_model import LogisticRegression\n",
    "from sklearn.tree import DecisionTreeClassifier\n",
    "from sklearn.ensemble import VotingClassifier\n",
    "from sklearn.utils import shuffle\n",
    "from tensorflow.keras.optimizers import Adam\n",
    "from tensorflow.keras.regularizers import l2\n",
    "import keras_tuner as kt\n",
    "\n",
    "from nltk.corpus import stopwords\n",
    "\n",
    "import tensorflow as tf\n",
    "from tensorflow.keras.callbacks import EarlyStopping\n",
    "from tensorflow.keras.models import Sequential\n",
    "from tensorflow.keras.layers import LSTM, Dense, Dropout, Bidirectional, Embedding, BatchNormalization\n",
    "from tensorflow.keras.utils import to_categorical\n",
    "from tensorflow.keras.preprocessing.sequence import pad_sequences\n",
    "from tensorflow.keras.preprocessing.text import Tokenizer\n",
    "from nltk.corpus import stopwords\n",
    "\n",
    "# Example of using English stopwords\n",
    "stop_words = stopwords.words('english')\n",
    "\n",
    "outputDir = 'C:\\\\Users\\\\Owner\\\\OneDrive\\\\Desktop\\\\My Computer\\\\AI\\\\Master of Science in Artificial Intelligence [Taught and Research (Mainly by Research)]\\\\ICS5200 Dissertation\\\\Result Screenshots\\\\Subplots\\\\'\n",
    "\n",
    "start = datetime.datetime.now()\n",
    "\n",
    "label_encoder = LabelEncoder()"
   ]
  },
  {
   "cell_type": "code",
   "execution_count": 2,
   "id": "14a67ec6",
   "metadata": {},
   "outputs": [
    {
     "name": "stdout",
     "output_type": "stream",
     "text": [
      "Compiling final dataset... done!\n",
      "Twitter Neutral Sentiment entries :  11117  rows, with  4117  rows to remove.\n",
      "Twitter Positive Sentiment entries:  8582 rows, with  1582  rows to remove.\n",
      "Twitter Negative Sentiment entries:  7781 rows, with  781  rows to remove.\n",
      "Updated Twitter Neutral Sentiment entries :  7000\n",
      "Updated Twitter Positive Sentiment entries:  7000\n",
      "Updated Twitter Negative Sentiment entries:  7000\n",
      "CPU times: total: 31.2 ms\n",
      "Wall time: 129 ms\n"
     ]
    }
   ],
   "source": [
    "%%time\n",
    "\n",
    "dataset = pd.read_csv(\"./Datasets/train.csv\",encoding='latin1')\n",
    "\n",
    "print(\"Compiling final dataset...\", end =\" \"),\n",
    "dataset = dataset[['text', 'sentiment']]\n",
    "print(\"done!\")\n",
    "\n",
    "dataset = dataset.dropna(subset=['text'])\n",
    "dataset = dataset.dropna(subset=['sentiment'])\n",
    "\n",
    "# Strip leading and trailing whitespace from the text column\n",
    "dataset['text'] = dataset['text'].str.strip()\n",
    "\n",
    "difference = 7000\n",
    "# difference = 9000\n",
    "\n",
    "# Calculating extra rows to be removed.\n",
    "posDiff = (dataset[dataset.sentiment == 'positive'].shape[0]) - difference\n",
    "negDiff = (dataset[dataset.sentiment == 'negative'].shape[0]) - difference\n",
    "neuDiff = (dataset[dataset.sentiment == 'neutral'].shape[0]) - difference\n",
    "\n",
    "print(\"Twitter Neutral Sentiment entries : \", dataset[dataset.sentiment == 'neutral'].shape[0], \" rows, with \", neuDiff, \" rows to remove.\")\n",
    "print(\"Twitter Positive Sentiment entries: \", dataset[dataset.sentiment == 'positive'].shape[0], \"rows, with \", posDiff, \" rows to remove.\")\n",
    "print(\"Twitter Negative Sentiment entries: \", dataset[dataset.sentiment == 'negative'].shape[0], \"rows, with \", negDiff, \" rows to remove.\")\n",
    "\n",
    "# Function to drop rows based on sorted index\n",
    "def drop_excess_rows(df, sentiment, excess_count):\n",
    "    if excess_count > 0:\n",
    "        # Sort the DataFrame by index\n",
    "        sorted_df = df[df['sentiment'] == sentiment].sort_index()\n",
    "        # Drop the excess rows\n",
    "        df = df.drop(sorted_df.index[:excess_count])\n",
    "    return df\n",
    "\n",
    "# Remove extra rows for each sentiment category\n",
    "dataset = drop_excess_rows(dataset, 'neutral', neuDiff)\n",
    "dataset = drop_excess_rows(dataset, 'positive', posDiff)\n",
    "dataset = drop_excess_rows(dataset, 'negative', negDiff)\n",
    "\n",
    "print(\"Updated Twitter Neutral Sentiment entries : \", dataset[dataset.sentiment == 'neutral'].shape[0])\n",
    "print(\"Updated Twitter Positive Sentiment entries: \", dataset[dataset.sentiment == 'positive'].shape[0])\n",
    "print(\"Updated Twitter Negative Sentiment entries: \", dataset[dataset.sentiment == 'negative'].shape[0])\n",
    "\n",
    "X = dataset['text']\n",
    "y = dataset['sentiment']\n",
    "\n",
    "# Simple text preprocessing function\n",
    "def preprocess_text(text):\n",
    "    # Remove punctuation\n",
    "    text = text.translate(str.maketrans('', '', string.punctuation))\n",
    "    # Lowercase\n",
    "    text = text.lower()\n",
    "    # Remove digits\n",
    "    text = re.sub(r'\\d+', '', text)\n",
    "    # Remove extra whitespace\n",
    "    text = text.strip()\n",
    "    return text\n",
    "\n",
    "# Apply preprocessing to each text entry\n",
    "X = X.apply(preprocess_text)"
   ]
  },
  {
   "cell_type": "code",
   "execution_count": 3,
   "id": "1e2d28e3",
   "metadata": {},
   "outputs": [
    {
     "name": "stdout",
     "output_type": "stream",
     "text": [
      "Training SVM model...Done training SVM model.\n",
      "Training Naive Bayes model...Done training Naive Bayes model.\n",
      "Training Logistic Regression model..."
     ]
    },
    {
     "name": "stderr",
     "output_type": "stream",
     "text": [
      "D:\\Anaconda Download\\Lib\\site-packages\\sklearn\\linear_model\\_logistic.py:460: ConvergenceWarning: lbfgs failed to converge (status=1):\n",
      "STOP: TOTAL NO. of ITERATIONS REACHED LIMIT.\n",
      "\n",
      "Increase the number of iterations (max_iter) or scale the data as shown in:\n",
      "    https://scikit-learn.org/stable/modules/preprocessing.html\n",
      "Please also refer to the documentation for alternative solver options:\n",
      "    https://scikit-learn.org/stable/modules/linear_model.html#logistic-regression\n",
      "  n_iter_i = _check_optimize_result(\n"
     ]
    },
    {
     "name": "stdout",
     "output_type": "stream",
     "text": [
      "Done training Logistic Regression model.\n",
      "Training Decision Tree model...Done training Decision Tree model.\n",
      "Fitting Voting Classifier..."
     ]
    },
    {
     "name": "stderr",
     "output_type": "stream",
     "text": [
      "D:\\Anaconda Download\\Lib\\site-packages\\sklearn\\linear_model\\_logistic.py:460: ConvergenceWarning: lbfgs failed to converge (status=1):\n",
      "STOP: TOTAL NO. of ITERATIONS REACHED LIMIT.\n",
      "\n",
      "Increase the number of iterations (max_iter) or scale the data as shown in:\n",
      "    https://scikit-learn.org/stable/modules/preprocessing.html\n",
      "Please also refer to the documentation for alternative solver options:\n",
      "    https://scikit-learn.org/stable/modules/linear_model.html#logistic-regression\n",
      "  n_iter_i = _check_optimize_result(\n"
     ]
    },
    {
     "name": "stdout",
     "output_type": "stream",
     "text": [
      "Voting Classifier trained.\n",
      "\n",
      "Classification report for Voting Classifier:\n",
      "              precision    recall  f1-score   support\n",
      "\n",
      "    negative       0.69      0.72      0.71      1392\n",
      "     neutral       0.59      0.60      0.59      1370\n",
      "    positive       0.77      0.73      0.75      1438\n",
      "\n",
      "    accuracy                           0.68      4200\n",
      "   macro avg       0.68      0.68      0.68      4200\n",
      "weighted avg       0.69      0.68      0.68      4200\n",
      "\n",
      "CPU times: total: 2min 28s\n",
      "Wall time: 5min 51s\n"
     ]
    }
   ],
   "source": [
    "%%time\n",
    "\n",
    "# X = dataset['text']\n",
    "# y = dataset['sentiment']\n",
    "\n",
    "X_train, X_test, y_train, y_test = train_test_split(X, y, test_size=0.20)\n",
    "\n",
    "cv = CountVectorizer()\n",
    "\n",
    "X_train_cv = cv.fit_transform(X_train)\n",
    "\n",
    "# Transform the test data\n",
    "X_test_cv = cv.transform(X_test)\n",
    "\n",
    "# Define models\n",
    "svm_model = SVC(probability=True)\n",
    "nb_model = MultinomialNB()\n",
    "lr_model = LogisticRegression()\n",
    "dt_model = DecisionTreeClassifier()\n",
    "\n",
    "# Voting classifier\n",
    "voting_clf = VotingClassifier(estimators=[\n",
    "    ('svm', svm_model),\n",
    "    ('nb', nb_model),\n",
    "    ('lr', lr_model),\n",
    "    ('dt', dt_model)\n",
    "], voting='soft')\n",
    "\n",
    "# Fit models\n",
    "models = [svm_model, nb_model, lr_model, dt_model]\n",
    "model_names = ['SVM', 'Naive Bayes', 'Logistic Regression', 'Decision Tree']\n",
    "\n",
    "for model, name in zip(models, model_names):\n",
    "    print(f\"Training {name} model...\", end = \"\")\n",
    "    model.fit(X_train_cv, y_train)\n",
    "    print(f\"Done training {name} model.\")\n",
    "\n",
    "print(\"Fitting Voting Classifier...\", end = \"\")\n",
    "voting_clf.fit(X_train_cv, y_train)\n",
    "print(\"Voting Classifier trained.\")\n",
    "\n",
    "print(\"\\nClassification report for Voting Classifier:\")\n",
    "voting_preds = voting_clf.predict(X_test_cv)\n",
    "print(classification_report(y_test, voting_preds))"
   ]
  },
  {
   "cell_type": "code",
   "execution_count": 4,
   "id": "c35f3a5c",
   "metadata": {},
   "outputs": [
    {
     "name": "stderr",
     "output_type": "stream",
     "text": [
      "D:\\Anaconda Download\\Lib\\site-packages\\keras\\src\\layers\\rnn\\rnn.py:204: UserWarning: Do not pass an `input_shape`/`input_dim` argument to a layer. When using Sequential models, prefer using an `Input(shape)` object as the first layer in the model instead.\n",
      "  super().__init__(**kwargs)\n"
     ]
    },
    {
     "data": {
      "text/html": [
       "<pre style=\"white-space:pre;overflow-x:auto;line-height:normal;font-family:Menlo,'DejaVu Sans Mono',consolas,'Courier New',monospace\"><span style=\"font-weight: bold\">Model: \"sequential\"</span>\n",
       "</pre>\n"
      ],
      "text/plain": [
       "\u001b[1mModel: \"sequential\"\u001b[0m\n"
      ]
     },
     "metadata": {},
     "output_type": "display_data"
    },
    {
     "data": {
      "text/html": [
       "<pre style=\"white-space:pre;overflow-x:auto;line-height:normal;font-family:Menlo,'DejaVu Sans Mono',consolas,'Courier New',monospace\">┏━━━━━━━━━━━━━━━━━━━━━━━━━━━━━━━━━━━━━━┳━━━━━━━━━━━━━━━━━━━━━━━━━━━━━┳━━━━━━━━━━━━━━━━━┓\n",
       "┃<span style=\"font-weight: bold\"> Layer (type)                         </span>┃<span style=\"font-weight: bold\"> Output Shape                </span>┃<span style=\"font-weight: bold\">         Param # </span>┃\n",
       "┡━━━━━━━━━━━━━━━━━━━━━━━━━━━━━━━━━━━━━━╇━━━━━━━━━━━━━━━━━━━━━━━━━━━━━╇━━━━━━━━━━━━━━━━━┩\n",
       "│ lstm (<span style=\"color: #0087ff; text-decoration-color: #0087ff\">LSTM</span>)                          │ (<span style=\"color: #00d7ff; text-decoration-color: #00d7ff\">None</span>, <span style=\"color: #00af00; text-decoration-color: #00af00\">128</span>)                 │       <span style=\"color: #00af00; text-decoration-color: #00af00\">5,186,048</span> │\n",
       "├──────────────────────────────────────┼─────────────────────────────┼─────────────────┤\n",
       "│ dropout (<span style=\"color: #0087ff; text-decoration-color: #0087ff\">Dropout</span>)                    │ (<span style=\"color: #00d7ff; text-decoration-color: #00d7ff\">None</span>, <span style=\"color: #00af00; text-decoration-color: #00af00\">128</span>)                 │               <span style=\"color: #00af00; text-decoration-color: #00af00\">0</span> │\n",
       "├──────────────────────────────────────┼─────────────────────────────┼─────────────────┤\n",
       "│ dense (<span style=\"color: #0087ff; text-decoration-color: #0087ff\">Dense</span>)                        │ (<span style=\"color: #00d7ff; text-decoration-color: #00d7ff\">None</span>, <span style=\"color: #00af00; text-decoration-color: #00af00\">64</span>)                  │           <span style=\"color: #00af00; text-decoration-color: #00af00\">8,256</span> │\n",
       "├──────────────────────────────────────┼─────────────────────────────┼─────────────────┤\n",
       "│ dropout_1 (<span style=\"color: #0087ff; text-decoration-color: #0087ff\">Dropout</span>)                  │ (<span style=\"color: #00d7ff; text-decoration-color: #00d7ff\">None</span>, <span style=\"color: #00af00; text-decoration-color: #00af00\">64</span>)                  │               <span style=\"color: #00af00; text-decoration-color: #00af00\">0</span> │\n",
       "├──────────────────────────────────────┼─────────────────────────────┼─────────────────┤\n",
       "│ dense_1 (<span style=\"color: #0087ff; text-decoration-color: #0087ff\">Dense</span>)                      │ (<span style=\"color: #00d7ff; text-decoration-color: #00d7ff\">None</span>, <span style=\"color: #00af00; text-decoration-color: #00af00\">32</span>)                  │           <span style=\"color: #00af00; text-decoration-color: #00af00\">2,080</span> │\n",
       "├──────────────────────────────────────┼─────────────────────────────┼─────────────────┤\n",
       "│ dropout_2 (<span style=\"color: #0087ff; text-decoration-color: #0087ff\">Dropout</span>)                  │ (<span style=\"color: #00d7ff; text-decoration-color: #00d7ff\">None</span>, <span style=\"color: #00af00; text-decoration-color: #00af00\">32</span>)                  │               <span style=\"color: #00af00; text-decoration-color: #00af00\">0</span> │\n",
       "├──────────────────────────────────────┼─────────────────────────────┼─────────────────┤\n",
       "│ batch_normalization                  │ (<span style=\"color: #00d7ff; text-decoration-color: #00d7ff\">None</span>, <span style=\"color: #00af00; text-decoration-color: #00af00\">32</span>)                  │             <span style=\"color: #00af00; text-decoration-color: #00af00\">128</span> │\n",
       "│ (<span style=\"color: #0087ff; text-decoration-color: #0087ff\">BatchNormalization</span>)                 │                             │                 │\n",
       "├──────────────────────────────────────┼─────────────────────────────┼─────────────────┤\n",
       "│ dropout_3 (<span style=\"color: #0087ff; text-decoration-color: #0087ff\">Dropout</span>)                  │ (<span style=\"color: #00d7ff; text-decoration-color: #00d7ff\">None</span>, <span style=\"color: #00af00; text-decoration-color: #00af00\">32</span>)                  │               <span style=\"color: #00af00; text-decoration-color: #00af00\">0</span> │\n",
       "├──────────────────────────────────────┼─────────────────────────────┼─────────────────┤\n",
       "│ dense_2 (<span style=\"color: #0087ff; text-decoration-color: #0087ff\">Dense</span>)                      │ (<span style=\"color: #00d7ff; text-decoration-color: #00d7ff\">None</span>, <span style=\"color: #00af00; text-decoration-color: #00af00\">3</span>)                   │              <span style=\"color: #00af00; text-decoration-color: #00af00\">99</span> │\n",
       "└──────────────────────────────────────┴─────────────────────────────┴─────────────────┘\n",
       "</pre>\n"
      ],
      "text/plain": [
       "┏━━━━━━━━━━━━━━━━━━━━━━━━━━━━━━━━━━━━━━┳━━━━━━━━━━━━━━━━━━━━━━━━━━━━━┳━━━━━━━━━━━━━━━━━┓\n",
       "┃\u001b[1m \u001b[0m\u001b[1mLayer (type)                        \u001b[0m\u001b[1m \u001b[0m┃\u001b[1m \u001b[0m\u001b[1mOutput Shape               \u001b[0m\u001b[1m \u001b[0m┃\u001b[1m \u001b[0m\u001b[1m        Param #\u001b[0m\u001b[1m \u001b[0m┃\n",
       "┡━━━━━━━━━━━━━━━━━━━━━━━━━━━━━━━━━━━━━━╇━━━━━━━━━━━━━━━━━━━━━━━━━━━━━╇━━━━━━━━━━━━━━━━━┩\n",
       "│ lstm (\u001b[38;5;33mLSTM\u001b[0m)                          │ (\u001b[38;5;45mNone\u001b[0m, \u001b[38;5;34m128\u001b[0m)                 │       \u001b[38;5;34m5,186,048\u001b[0m │\n",
       "├──────────────────────────────────────┼─────────────────────────────┼─────────────────┤\n",
       "│ dropout (\u001b[38;5;33mDropout\u001b[0m)                    │ (\u001b[38;5;45mNone\u001b[0m, \u001b[38;5;34m128\u001b[0m)                 │               \u001b[38;5;34m0\u001b[0m │\n",
       "├──────────────────────────────────────┼─────────────────────────────┼─────────────────┤\n",
       "│ dense (\u001b[38;5;33mDense\u001b[0m)                        │ (\u001b[38;5;45mNone\u001b[0m, \u001b[38;5;34m64\u001b[0m)                  │           \u001b[38;5;34m8,256\u001b[0m │\n",
       "├──────────────────────────────────────┼─────────────────────────────┼─────────────────┤\n",
       "│ dropout_1 (\u001b[38;5;33mDropout\u001b[0m)                  │ (\u001b[38;5;45mNone\u001b[0m, \u001b[38;5;34m64\u001b[0m)                  │               \u001b[38;5;34m0\u001b[0m │\n",
       "├──────────────────────────────────────┼─────────────────────────────┼─────────────────┤\n",
       "│ dense_1 (\u001b[38;5;33mDense\u001b[0m)                      │ (\u001b[38;5;45mNone\u001b[0m, \u001b[38;5;34m32\u001b[0m)                  │           \u001b[38;5;34m2,080\u001b[0m │\n",
       "├──────────────────────────────────────┼─────────────────────────────┼─────────────────┤\n",
       "│ dropout_2 (\u001b[38;5;33mDropout\u001b[0m)                  │ (\u001b[38;5;45mNone\u001b[0m, \u001b[38;5;34m32\u001b[0m)                  │               \u001b[38;5;34m0\u001b[0m │\n",
       "├──────────────────────────────────────┼─────────────────────────────┼─────────────────┤\n",
       "│ batch_normalization                  │ (\u001b[38;5;45mNone\u001b[0m, \u001b[38;5;34m32\u001b[0m)                  │             \u001b[38;5;34m128\u001b[0m │\n",
       "│ (\u001b[38;5;33mBatchNormalization\u001b[0m)                 │                             │                 │\n",
       "├──────────────────────────────────────┼─────────────────────────────┼─────────────────┤\n",
       "│ dropout_3 (\u001b[38;5;33mDropout\u001b[0m)                  │ (\u001b[38;5;45mNone\u001b[0m, \u001b[38;5;34m32\u001b[0m)                  │               \u001b[38;5;34m0\u001b[0m │\n",
       "├──────────────────────────────────────┼─────────────────────────────┼─────────────────┤\n",
       "│ dense_2 (\u001b[38;5;33mDense\u001b[0m)                      │ (\u001b[38;5;45mNone\u001b[0m, \u001b[38;5;34m3\u001b[0m)                   │              \u001b[38;5;34m99\u001b[0m │\n",
       "└──────────────────────────────────────┴─────────────────────────────┴─────────────────┘\n"
      ]
     },
     "metadata": {},
     "output_type": "display_data"
    },
    {
     "data": {
      "text/html": [
       "<pre style=\"white-space:pre;overflow-x:auto;line-height:normal;font-family:Menlo,'DejaVu Sans Mono',consolas,'Courier New',monospace\"><span style=\"font-weight: bold\"> Total params: </span><span style=\"color: #00af00; text-decoration-color: #00af00\">5,196,611</span> (19.82 MB)\n",
       "</pre>\n"
      ],
      "text/plain": [
       "\u001b[1m Total params: \u001b[0m\u001b[38;5;34m5,196,611\u001b[0m (19.82 MB)\n"
      ]
     },
     "metadata": {},
     "output_type": "display_data"
    },
    {
     "data": {
      "text/html": [
       "<pre style=\"white-space:pre;overflow-x:auto;line-height:normal;font-family:Menlo,'DejaVu Sans Mono',consolas,'Courier New',monospace\"><span style=\"font-weight: bold\"> Trainable params: </span><span style=\"color: #00af00; text-decoration-color: #00af00\">5,196,547</span> (19.82 MB)\n",
       "</pre>\n"
      ],
      "text/plain": [
       "\u001b[1m Trainable params: \u001b[0m\u001b[38;5;34m5,196,547\u001b[0m (19.82 MB)\n"
      ]
     },
     "metadata": {},
     "output_type": "display_data"
    },
    {
     "data": {
      "text/html": [
       "<pre style=\"white-space:pre;overflow-x:auto;line-height:normal;font-family:Menlo,'DejaVu Sans Mono',consolas,'Courier New',monospace\"><span style=\"font-weight: bold\"> Non-trainable params: </span><span style=\"color: #00af00; text-decoration-color: #00af00\">64</span> (256.00 B)\n",
       "</pre>\n"
      ],
      "text/plain": [
       "\u001b[1m Non-trainable params: \u001b[0m\u001b[38;5;34m64\u001b[0m (256.00 B)\n"
      ]
     },
     "metadata": {},
     "output_type": "display_data"
    },
    {
     "name": "stdout",
     "output_type": "stream",
     "text": [
      "Epoch 1/20\n",
      "\u001b[1m152/152\u001b[0m \u001b[32m━━━━━━━━━━━━━━━━━━━━\u001b[0m\u001b[37m\u001b[0m \u001b[1m6s\u001b[0m 22ms/step - accuracy: 0.3696 - loss: 4.0103 - val_accuracy: 0.3280 - val_loss: 1.3076\n",
      "Epoch 2/20\n",
      "\u001b[1m152/152\u001b[0m \u001b[32m━━━━━━━━━━━━━━━━━━━━\u001b[0m\u001b[37m\u001b[0m \u001b[1m5s\u001b[0m 20ms/step - accuracy: 0.5081 - loss: 1.1809 - val_accuracy: 0.4643 - val_loss: 1.2543\n",
      "Epoch 3/20\n",
      "\u001b[1m152/152\u001b[0m \u001b[32m━━━━━━━━━━━━━━━━━━━━\u001b[0m\u001b[37m\u001b[0m \u001b[1m3s\u001b[0m 20ms/step - accuracy: 0.5600 - loss: 1.1167 - val_accuracy: 0.5923 - val_loss: 1.1658\n",
      "Epoch 4/20\n",
      "\u001b[1m152/152\u001b[0m \u001b[32m━━━━━━━━━━━━━━━━━━━━\u001b[0m\u001b[37m\u001b[0m \u001b[1m3s\u001b[0m 20ms/step - accuracy: 0.5993 - loss: 1.0707 - val_accuracy: 0.6220 - val_loss: 1.0971\n",
      "Epoch 5/20\n",
      "\u001b[1m152/152\u001b[0m \u001b[32m━━━━━━━━━━━━━━━━━━━━\u001b[0m\u001b[37m\u001b[0m \u001b[1m3s\u001b[0m 20ms/step - accuracy: 0.6052 - loss: 1.0634 - val_accuracy: 0.6470 - val_loss: 1.0155\n",
      "Epoch 6/20\n",
      "\u001b[1m152/152\u001b[0m \u001b[32m━━━━━━━━━━━━━━━━━━━━\u001b[0m\u001b[37m\u001b[0m \u001b[1m3s\u001b[0m 20ms/step - accuracy: 0.6203 - loss: 1.0374 - val_accuracy: 0.6631 - val_loss: 0.9907\n",
      "Epoch 7/20\n",
      "\u001b[1m152/152\u001b[0m \u001b[32m━━━━━━━━━━━━━━━━━━━━\u001b[0m\u001b[37m\u001b[0m \u001b[1m3s\u001b[0m 21ms/step - accuracy: 0.6078 - loss: 1.0515 - val_accuracy: 0.6512 - val_loss: 0.9926\n",
      "Epoch 8/20\n",
      "\u001b[1m152/152\u001b[0m \u001b[32m━━━━━━━━━━━━━━━━━━━━\u001b[0m\u001b[37m\u001b[0m \u001b[1m3s\u001b[0m 20ms/step - accuracy: 0.6338 - loss: 1.0224 - val_accuracy: 0.6554 - val_loss: 0.9779\n",
      "Epoch 9/20\n",
      "\u001b[1m152/152\u001b[0m \u001b[32m━━━━━━━━━━━━━━━━━━━━\u001b[0m\u001b[37m\u001b[0m \u001b[1m3s\u001b[0m 20ms/step - accuracy: 0.6291 - loss: 1.0262 - val_accuracy: 0.6571 - val_loss: 0.9700\n",
      "Epoch 10/20\n",
      "\u001b[1m152/152\u001b[0m \u001b[32m━━━━━━━━━━━━━━━━━━━━\u001b[0m\u001b[37m\u001b[0m \u001b[1m3s\u001b[0m 20ms/step - accuracy: 0.6351 - loss: 1.0076 - val_accuracy: 0.6482 - val_loss: 1.0025\n",
      "Epoch 11/20\n",
      "\u001b[1m152/152\u001b[0m \u001b[32m━━━━━━━━━━━━━━━━━━━━\u001b[0m\u001b[37m\u001b[0m \u001b[1m3s\u001b[0m 20ms/step - accuracy: 0.6224 - loss: 1.0139 - val_accuracy: 0.6571 - val_loss: 0.9721\n",
      "Epoch 12/20\n",
      "\u001b[1m152/152\u001b[0m \u001b[32m━━━━━━━━━━━━━━━━━━━━\u001b[0m\u001b[37m\u001b[0m \u001b[1m3s\u001b[0m 20ms/step - accuracy: 0.6405 - loss: 0.9995 - val_accuracy: 0.6530 - val_loss: 0.9689\n",
      "Epoch 13/20\n",
      "\u001b[1m152/152\u001b[0m \u001b[32m━━━━━━━━━━━━━━━━━━━━\u001b[0m\u001b[37m\u001b[0m \u001b[1m3s\u001b[0m 20ms/step - accuracy: 0.6483 - loss: 0.9761 - val_accuracy: 0.6583 - val_loss: 0.9713\n",
      "Epoch 14/20\n",
      "\u001b[1m152/152\u001b[0m \u001b[32m━━━━━━━━━━━━━━━━━━━━\u001b[0m\u001b[37m\u001b[0m \u001b[1m3s\u001b[0m 20ms/step - accuracy: 0.6411 - loss: 0.9988 - val_accuracy: 0.6601 - val_loss: 0.9596\n",
      "Epoch 15/20\n",
      "\u001b[1m152/152\u001b[0m \u001b[32m━━━━━━━━━━━━━━━━━━━━\u001b[0m\u001b[37m\u001b[0m \u001b[1m3s\u001b[0m 20ms/step - accuracy: 0.6352 - loss: 1.0018 - val_accuracy: 0.6655 - val_loss: 0.9451\n",
      "Epoch 16/20\n",
      "\u001b[1m152/152\u001b[0m \u001b[32m━━━━━━━━━━━━━━━━━━━━\u001b[0m\u001b[37m\u001b[0m \u001b[1m3s\u001b[0m 20ms/step - accuracy: 0.6456 - loss: 0.9923 - val_accuracy: 0.6625 - val_loss: 0.9617\n",
      "Epoch 17/20\n",
      "\u001b[1m152/152\u001b[0m \u001b[32m━━━━━━━━━━━━━━━━━━━━\u001b[0m\u001b[37m\u001b[0m \u001b[1m3s\u001b[0m 20ms/step - accuracy: 0.6510 - loss: 0.9831 - val_accuracy: 0.6631 - val_loss: 0.9617\n",
      "Epoch 18/20\n",
      "\u001b[1m152/152\u001b[0m \u001b[32m━━━━━━━━━━━━━━━━━━━━\u001b[0m\u001b[37m\u001b[0m \u001b[1m3s\u001b[0m 20ms/step - accuracy: 0.6527 - loss: 0.9681 - val_accuracy: 0.6488 - val_loss: 0.9806\n",
      "\u001b[1m132/132\u001b[0m \u001b[32m━━━━━━━━━━━━━━━━━━━━\u001b[0m\u001b[37m\u001b[0m \u001b[1m1s\u001b[0m 8ms/step\n",
      "              precision    recall  f1-score   support\n",
      "\n",
      "    negative       0.69      0.72      0.70      1445\n",
      "     neutral       0.55      0.52      0.53      1379\n",
      "    positive       0.75      0.76      0.75      1376\n",
      "\n",
      "    accuracy                           0.67      4200\n",
      "   macro avg       0.66      0.66      0.66      4200\n",
      "weighted avg       0.66      0.67      0.66      4200\n",
      "\n"
     ]
    }
   ],
   "source": [
    "X = dataset['text']\n",
    "y = dataset['sentiment']\n",
    "\n",
    "# Preprocessing function\n",
    "def preprocess_text(text):\n",
    "    text = text.translate(str.maketrans('', '', string.punctuation))\n",
    "    text = text.lower()\n",
    "    text = re.sub(r'\\d+', '', text)\n",
    "    text = text.strip()\n",
    "    return text\n",
    "\n",
    "# Apply preprocessing\n",
    "X = X.apply(preprocess_text)\n",
    "\n",
    "# Encode labels\n",
    "label_encoder = LabelEncoder()\n",
    "y_encoded = label_encoder.fit_transform(y)\n",
    "\n",
    "# Split the data\n",
    "X_train, X_test, y_train, y_test = train_test_split(X, y_encoded, test_size=0.2, random_state=42)\n",
    "\n",
    "# Vectorize the text data\n",
    "vectorizer = TfidfVectorizer(max_features=10000)  # Adjust the max_features as needed\n",
    "X_train_vec = vectorizer.fit_transform(X_train.values.astype('U')).toarray()\n",
    "X_test_vec = vectorizer.transform(X_test.values.astype('U')).toarray()\n",
    "\n",
    "# Reshape data for LSTM\n",
    "max_features = X_train_vec.shape[1]\n",
    "\n",
    "X_train_lstm = X_train_vec.reshape(X_train_vec.shape[0], 1, max_features)\n",
    "X_test_lstm = X_test_vec.reshape(X_test_vec.shape[0], 1, max_features)\n",
    "\n",
    "# Convert labels to one-hot encoding\n",
    "y_train_onehot = to_categorical(y_train)\n",
    "y_test_onehot = to_categorical(y_test)\n",
    "\n",
    "# Define the LSTM model with batch normalization and regularization\n",
    "lstm_model = Sequential()\n",
    "lstm_model.add(LSTM(128, return_sequences=False, input_shape=(1, max_features), kernel_regularizer=l2(0.01), recurrent_regularizer=l2(0.01)))\n",
    "lstm_model.add(Dropout(0.5)),\n",
    "lstm_model.add(Dense(64, activation='relu', kernel_regularizer=tf.keras.regularizers.l2(0.01))),\n",
    "lstm_model.add(Dropout(0.5)),\n",
    "lstm_model.add(Dense(32, activation='relu', kernel_regularizer=tf.keras.regularizers.l2(0.001))),\n",
    "lstm_model.add(Dropout(0.5)),\n",
    "lstm_model.add(BatchNormalization())\n",
    "lstm_model.add(Dropout(0.5))\n",
    "lstm_model.add(Dense(3, activation='softmax'))\n",
    "\n",
    "# Compile the model\n",
    "lstm_model.compile(loss='categorical_crossentropy', optimizer='adam', metrics=['accuracy'])\n",
    "\n",
    "# Print the model summary\n",
    "lstm_model.summary()\n",
    "\n",
    "# Define early stopping and model checkpoint callbacks\n",
    "early_stopping = EarlyStopping(monitor='val_loss', patience=3, restore_best_weights=True)\n",
    "\n",
    "# Train the model with early stopping and model checkpoint\n",
    "history = lstm_model.fit(X_train_lstm, y_train_onehot, batch_size=100, epochs=20, validation_split=0.1, callbacks=[early_stopping])\n",
    "\n",
    "print(\"Predicting with LSTM model...\", end=\" \")\n",
    "\n",
    "# Predict on the test set\n",
    "lstm_preds = lstm_model.predict(X_test_lstm).argmax(axis=1)  # Get the class with highest probability\n",
    "\n",
    "# Extract precision, recall, and F1-score\n",
    "precision, recall, f1, _ = precision_recall_fscore_support(y_test, lstm_preds, average=None)\n",
    "\n",
    "# Generate the classification report\n",
    "class_report = classification_report(y_test, lstm_preds, target_names=label_encoder.classes_)\n",
    "print(class_report)"
   ]
  },
  {
   "cell_type": "code",
   "execution_count": 5,
   "id": "d3067490",
   "metadata": {
    "scrolled": false
   },
   "outputs": [
    {
     "name": "stderr",
     "output_type": "stream",
     "text": [
      "D:\\Anaconda Download\\Lib\\site-packages\\keras\\src\\layers\\core\\dense.py:87: UserWarning: Do not pass an `input_shape`/`input_dim` argument to a layer. When using Sequential models, prefer using an `Input(shape)` object as the first layer in the model instead.\n",
      "  super().__init__(activity_regularizer=activity_regularizer, **kwargs)\n"
     ]
    },
    {
     "data": {
      "text/html": [
       "<pre style=\"white-space:pre;overflow-x:auto;line-height:normal;font-family:Menlo,'DejaVu Sans Mono',consolas,'Courier New',monospace\"><span style=\"font-weight: bold\">Model: \"sequential_1\"</span>\n",
       "</pre>\n"
      ],
      "text/plain": [
       "\u001b[1mModel: \"sequential_1\"\u001b[0m\n"
      ]
     },
     "metadata": {},
     "output_type": "display_data"
    },
    {
     "data": {
      "text/html": [
       "<pre style=\"white-space:pre;overflow-x:auto;line-height:normal;font-family:Menlo,'DejaVu Sans Mono',consolas,'Courier New',monospace\">┏━━━━━━━━━━━━━━━━━━━━━━━━━━━━━━━━━━━━━━┳━━━━━━━━━━━━━━━━━━━━━━━━━━━━━┳━━━━━━━━━━━━━━━━━┓\n",
       "┃<span style=\"font-weight: bold\"> Layer (type)                         </span>┃<span style=\"font-weight: bold\"> Output Shape                </span>┃<span style=\"font-weight: bold\">         Param # </span>┃\n",
       "┡━━━━━━━━━━━━━━━━━━━━━━━━━━━━━━━━━━━━━━╇━━━━━━━━━━━━━━━━━━━━━━━━━━━━━╇━━━━━━━━━━━━━━━━━┩\n",
       "│ dense_3 (<span style=\"color: #0087ff; text-decoration-color: #0087ff\">Dense</span>)                      │ (<span style=\"color: #00d7ff; text-decoration-color: #00d7ff\">None</span>, <span style=\"color: #00af00; text-decoration-color: #00af00\">128</span>)                 │       <span style=\"color: #00af00; text-decoration-color: #00af00\">2,601,088</span> │\n",
       "├──────────────────────────────────────┼─────────────────────────────┼─────────────────┤\n",
       "│ dropout_4 (<span style=\"color: #0087ff; text-decoration-color: #0087ff\">Dropout</span>)                  │ (<span style=\"color: #00d7ff; text-decoration-color: #00d7ff\">None</span>, <span style=\"color: #00af00; text-decoration-color: #00af00\">128</span>)                 │               <span style=\"color: #00af00; text-decoration-color: #00af00\">0</span> │\n",
       "├──────────────────────────────────────┼─────────────────────────────┼─────────────────┤\n",
       "│ batch_normalization_1                │ (<span style=\"color: #00d7ff; text-decoration-color: #00d7ff\">None</span>, <span style=\"color: #00af00; text-decoration-color: #00af00\">128</span>)                 │             <span style=\"color: #00af00; text-decoration-color: #00af00\">512</span> │\n",
       "│ (<span style=\"color: #0087ff; text-decoration-color: #0087ff\">BatchNormalization</span>)                 │                             │                 │\n",
       "├──────────────────────────────────────┼─────────────────────────────┼─────────────────┤\n",
       "│ dense_4 (<span style=\"color: #0087ff; text-decoration-color: #0087ff\">Dense</span>)                      │ (<span style=\"color: #00d7ff; text-decoration-color: #00d7ff\">None</span>, <span style=\"color: #00af00; text-decoration-color: #00af00\">3</span>)                   │             <span style=\"color: #00af00; text-decoration-color: #00af00\">387</span> │\n",
       "└──────────────────────────────────────┴─────────────────────────────┴─────────────────┘\n",
       "</pre>\n"
      ],
      "text/plain": [
       "┏━━━━━━━━━━━━━━━━━━━━━━━━━━━━━━━━━━━━━━┳━━━━━━━━━━━━━━━━━━━━━━━━━━━━━┳━━━━━━━━━━━━━━━━━┓\n",
       "┃\u001b[1m \u001b[0m\u001b[1mLayer (type)                        \u001b[0m\u001b[1m \u001b[0m┃\u001b[1m \u001b[0m\u001b[1mOutput Shape               \u001b[0m\u001b[1m \u001b[0m┃\u001b[1m \u001b[0m\u001b[1m        Param #\u001b[0m\u001b[1m \u001b[0m┃\n",
       "┡━━━━━━━━━━━━━━━━━━━━━━━━━━━━━━━━━━━━━━╇━━━━━━━━━━━━━━━━━━━━━━━━━━━━━╇━━━━━━━━━━━━━━━━━┩\n",
       "│ dense_3 (\u001b[38;5;33mDense\u001b[0m)                      │ (\u001b[38;5;45mNone\u001b[0m, \u001b[38;5;34m128\u001b[0m)                 │       \u001b[38;5;34m2,601,088\u001b[0m │\n",
       "├──────────────────────────────────────┼─────────────────────────────┼─────────────────┤\n",
       "│ dropout_4 (\u001b[38;5;33mDropout\u001b[0m)                  │ (\u001b[38;5;45mNone\u001b[0m, \u001b[38;5;34m128\u001b[0m)                 │               \u001b[38;5;34m0\u001b[0m │\n",
       "├──────────────────────────────────────┼─────────────────────────────┼─────────────────┤\n",
       "│ batch_normalization_1                │ (\u001b[38;5;45mNone\u001b[0m, \u001b[38;5;34m128\u001b[0m)                 │             \u001b[38;5;34m512\u001b[0m │\n",
       "│ (\u001b[38;5;33mBatchNormalization\u001b[0m)                 │                             │                 │\n",
       "├──────────────────────────────────────┼─────────────────────────────┼─────────────────┤\n",
       "│ dense_4 (\u001b[38;5;33mDense\u001b[0m)                      │ (\u001b[38;5;45mNone\u001b[0m, \u001b[38;5;34m3\u001b[0m)                   │             \u001b[38;5;34m387\u001b[0m │\n",
       "└──────────────────────────────────────┴─────────────────────────────┴─────────────────┘\n"
      ]
     },
     "metadata": {},
     "output_type": "display_data"
    },
    {
     "data": {
      "text/html": [
       "<pre style=\"white-space:pre;overflow-x:auto;line-height:normal;font-family:Menlo,'DejaVu Sans Mono',consolas,'Courier New',monospace\"><span style=\"font-weight: bold\"> Total params: </span><span style=\"color: #00af00; text-decoration-color: #00af00\">2,601,987</span> (9.93 MB)\n",
       "</pre>\n"
      ],
      "text/plain": [
       "\u001b[1m Total params: \u001b[0m\u001b[38;5;34m2,601,987\u001b[0m (9.93 MB)\n"
      ]
     },
     "metadata": {},
     "output_type": "display_data"
    },
    {
     "data": {
      "text/html": [
       "<pre style=\"white-space:pre;overflow-x:auto;line-height:normal;font-family:Menlo,'DejaVu Sans Mono',consolas,'Courier New',monospace\"><span style=\"font-weight: bold\"> Trainable params: </span><span style=\"color: #00af00; text-decoration-color: #00af00\">2,601,731</span> (9.92 MB)\n",
       "</pre>\n"
      ],
      "text/plain": [
       "\u001b[1m Trainable params: \u001b[0m\u001b[38;5;34m2,601,731\u001b[0m (9.92 MB)\n"
      ]
     },
     "metadata": {},
     "output_type": "display_data"
    },
    {
     "data": {
      "text/html": [
       "<pre style=\"white-space:pre;overflow-x:auto;line-height:normal;font-family:Menlo,'DejaVu Sans Mono',consolas,'Courier New',monospace\"><span style=\"font-weight: bold\"> Non-trainable params: </span><span style=\"color: #00af00; text-decoration-color: #00af00\">256</span> (1.00 KB)\n",
       "</pre>\n"
      ],
      "text/plain": [
       "\u001b[1m Non-trainable params: \u001b[0m\u001b[38;5;34m256\u001b[0m (1.00 KB)\n"
      ]
     },
     "metadata": {},
     "output_type": "display_data"
    },
    {
     "name": "stdout",
     "output_type": "stream",
     "text": [
      "Epoch 1/30\n",
      "\u001b[1m237/237\u001b[0m \u001b[32m━━━━━━━━━━━━━━━━━━━━\u001b[0m\u001b[37m\u001b[0m \u001b[1m3s\u001b[0m 9ms/step - accuracy: 0.4019 - loss: 1.2138 - val_accuracy: 0.6262 - val_loss: 1.0993\n",
      "Epoch 2/30\n",
      "\u001b[1m237/237\u001b[0m \u001b[32m━━━━━━━━━━━━━━━━━━━━\u001b[0m\u001b[37m\u001b[0m \u001b[1m2s\u001b[0m 9ms/step - accuracy: 0.6870 - loss: 0.8316 - val_accuracy: 0.6649 - val_loss: 0.9678\n",
      "Epoch 3/30\n",
      "\u001b[1m237/237\u001b[0m \u001b[32m━━━━━━━━━━━━━━━━━━━━\u001b[0m\u001b[37m\u001b[0m \u001b[1m2s\u001b[0m 9ms/step - accuracy: 0.7897 - loss: 0.6491 - val_accuracy: 0.6780 - val_loss: 0.8050\n",
      "Epoch 4/30\n",
      "\u001b[1m237/237\u001b[0m \u001b[32m━━━━━━━━━━━━━━━━━━━━\u001b[0m\u001b[37m\u001b[0m \u001b[1m2s\u001b[0m 9ms/step - accuracy: 0.8490 - loss: 0.5233 - val_accuracy: 0.6774 - val_loss: 0.7759\n",
      "Epoch 5/30\n",
      "\u001b[1m237/237\u001b[0m \u001b[32m━━━━━━━━━━━━━━━━━━━━\u001b[0m\u001b[37m\u001b[0m \u001b[1m2s\u001b[0m 9ms/step - accuracy: 0.8878 - loss: 0.4365 - val_accuracy: 0.6720 - val_loss: 0.7860\n",
      "Epoch 6/30\n",
      "\u001b[1m237/237\u001b[0m \u001b[32m━━━━━━━━━━━━━━━━━━━━\u001b[0m\u001b[37m\u001b[0m \u001b[1m2s\u001b[0m 9ms/step - accuracy: 0.9116 - loss: 0.3744 - val_accuracy: 0.6714 - val_loss: 0.8010\n",
      "Epoch 7/30\n",
      "\u001b[1m237/237\u001b[0m \u001b[32m━━━━━━━━━━━━━━━━━━━━\u001b[0m\u001b[37m\u001b[0m \u001b[1m2s\u001b[0m 8ms/step - accuracy: 0.9276 - loss: 0.3235 - val_accuracy: 0.6679 - val_loss: 0.8194\n",
      "\u001b[1m132/132\u001b[0m \u001b[32m━━━━━━━━━━━━━━━━━━━━\u001b[0m\u001b[37m\u001b[0m \u001b[1m0s\u001b[0m 3ms/step\n",
      "              precision    recall  f1-score   support\n",
      "\n",
      "    negative       0.72      0.69      0.70      1445\n",
      "     neutral       0.58      0.59      0.59      1379\n",
      "    positive       0.75      0.77      0.76      1376\n",
      "\n",
      "    accuracy                           0.68      4200\n",
      "   macro avg       0.68      0.68      0.68      4200\n",
      "weighted avg       0.68      0.68      0.68      4200\n",
      "\n",
      "CPU times: total: 2.91 s\n",
      "Wall time: 18.9 s\n"
     ]
    }
   ],
   "source": [
    "%%time\n",
    "\n",
    "# Artificial Neural Network (ANN) Model\n",
    "label_encoder = LabelEncoder()\n",
    "y_encoded = label_encoder.fit_transform(y)\n",
    "\n",
    "X_train, X_test, y_train, y_test = train_test_split(X, y_encoded, test_size=0.2, random_state=42)\n",
    "\n",
    "vectorizer = TfidfVectorizer()\n",
    "X_train_vec = vectorizer.fit_transform(X_train.values.astype('U')).toarray()\n",
    "X_test_vec = vectorizer.transform(X_test.values.astype('U')).toarray()\n",
    "\n",
    "ann_model = tf.keras.Sequential([\n",
    "    tf.keras.layers.Dense(128, input_shape=(X_train_vec.shape[1],), activation='relu', kernel_regularizer=tf.keras.regularizers.l2(0.001)),\n",
    "    tf.keras.layers.Dropout(0.5),\n",
    "    tf.keras.layers.BatchNormalization(),\n",
    "    tf.keras.layers.Dense(len(label_encoder.classes_), activation='softmax')\n",
    "])\n",
    "\n",
    "initial_learning_rate = 0.0001\n",
    "lr_schedule = tf.keras.optimizers.schedules.ExponentialDecay(\n",
    "    initial_learning_rate,\n",
    "    decay_steps=100000,\n",
    "    decay_rate=0.96,\n",
    "    staircase=True)\n",
    "\n",
    "ann_model.compile(optimizer=tf.keras.optimizers.Adam(learning_rate=lr_schedule),\n",
    "            loss='sparse_categorical_crossentropy',\n",
    "            metrics=['accuracy'])\n",
    "\n",
    "ann_model.summary()\n",
    "\n",
    "early_stopping = EarlyStopping(monitor='val_loss', patience=3, restore_best_weights=True)\n",
    "\n",
    "history = ann_model.fit(X_train_vec, y_train, epochs=30, batch_size=64, validation_split=0.1, callbacks=[early_stopping])\n",
    "\n",
    "\n",
    "print(\"Predicting with ANN model...\", end = \" \")\n",
    "ann_preds = ann_model.predict(X_test_vec).argmax(axis=1)\n",
    "\n",
    "# Extract precision, recall, and F1-score\n",
    "precision, recall, f1, _ = precision_recall_fscore_support(y_test, ann_preds, average=None)\n",
    "\n",
    "# Generate the classification report\n",
    "class_report = classification_report(y_test, ann_preds, target_names=label_encoder.classes_)\n",
    "print(class_report)"
   ]
  },
  {
   "cell_type": "code",
   "execution_count": 6,
   "id": "07eae4a1",
   "metadata": {},
   "outputs": [
    {
     "name": "stdout",
     "output_type": "stream",
     "text": [
      "Target names: ['negative' 'positive' 'neutral']\n",
      "Classification Report:\n",
      "              precision    recall  f1-score   support\n",
      "\n",
      "    negative       0.65      0.75      0.70      1445\n",
      "    positive       0.59      0.51      0.55      1379\n",
      "     neutral       0.78      0.74      0.76      1376\n",
      "\n",
      "    accuracy                           0.67      4200\n",
      "   macro avg       0.67      0.67      0.67      4200\n",
      "weighted avg       0.67      0.67      0.67      4200\n",
      "\n"
     ]
    },
    {
     "name": "stderr",
     "output_type": "stream",
     "text": [
      "D:\\Anaconda Download\\Lib\\site-packages\\sklearn\\preprocessing\\_encoders.py:972: FutureWarning: `sparse` was renamed to `sparse_output` in version 1.2 and will be removed in 1.4. `sparse_output` is ignored unless you leave `sparse` to its default value.\n",
      "  warnings.warn(\n",
      "D:\\Anaconda Download\\Lib\\site-packages\\sklearn\\preprocessing\\_encoders.py:972: FutureWarning: `sparse` was renamed to `sparse_output` in version 1.2 and will be removed in 1.4. `sparse_output` is ignored unless you leave `sparse` to its default value.\n",
      "  warnings.warn(\n",
      "D:\\Anaconda Download\\Lib\\site-packages\\sklearn\\preprocessing\\_encoders.py:972: FutureWarning: `sparse` was renamed to `sparse_output` in version 1.2 and will be removed in 1.4. `sparse_output` is ignored unless you leave `sparse` to its default value.\n",
      "  warnings.warn(\n"
     ]
    },
    {
     "name": "stdout",
     "output_type": "stream",
     "text": [
      "CPU Load     :  2.4\n",
      "RAM Used (GB): 17.759875072\n"
     ]
    },
    {
     "data": {
      "image/png": "[encoded data removed]",
      "text/plain": [
       "<Figure size 1000x600 with 1 Axes>"
      ]
     },
     "metadata": {},
     "output_type": "display_data"
    },
    {
     "name": "stdout",
     "output_type": "stream",
     "text": [
      "\n",
      "Total program execution time: 0:07:14.215689\n",
      "CPU times: total: 422 ms\n",
      "Wall time: 1.64 s\n"
     ]
    },
    {
     "data": {
      "text/plain": [
       "4099"
      ]
     },
     "execution_count": 6,
     "metadata": {},
     "output_type": "execute_result"
    }
   ],
   "source": [
    "%%time\n",
    "\n",
    "# Function to convert class labels to one-hot encoded probabilities\n",
    "def to_one_hot(labels, num_classes):\n",
    "    encoder = OneHotEncoder(categories='auto', sparse=False)\n",
    "    # Reshape the labels to (num_samples, 1) and fit_transform to get one-hot encoded form\n",
    "    labels_one_hot = encoder.fit_transform(labels.reshape(-1, 1))\n",
    "    # Ensure the output shape matches the number of classes\n",
    "    if labels_one_hot.shape[1] != num_classes:\n",
    "        raise ValueError(f\"Number of classes mismatch: expected {num_classes}, got {labels_one_hot.shape[1]}\")\n",
    "    return labels_one_hot\n",
    "\n",
    "# Convert lstm_preds and ann_preds to one-hot encoded form\n",
    "voting_probs = to_one_hot(voting_preds, 3)\n",
    "lstm_probs = to_one_hot(lstm_preds, 3)\n",
    "ann_probs = to_one_hot(ann_preds, 3)\n",
    "\n",
    "# Combine the predictions correctly by averaging\n",
    "avg_preds = (voting_probs + lstm_probs + ann_probs) / 3\n",
    "\n",
    "# Final predictions\n",
    "final_preds = np.argmax(avg_preds, axis=1)\n",
    "\n",
    "# Check target names consistency\n",
    "if isinstance(y_test[0], str):\n",
    "    target_names = label_encoder.classes_\n",
    "else:\n",
    "    target_names = dataset['sentiment'].unique()\n",
    "\n",
    "# Generate classification report\n",
    "print(\"Target names:\", target_names)\n",
    "print(\"Classification Report:\")\n",
    "class_report = classification_report(y_test, final_preds, target_names=target_names)\n",
    "print(class_report)\n",
    "\n",
    "print(\"CPU Load     : \", psutil.cpu_percent(1))\n",
    "print('RAM Used (GB):', psutil.virtual_memory()[3]/1000000000)\n",
    "\n",
    "# Plotting metrics\n",
    "precision, recall, f1, _ = precision_recall_fscore_support(y_test, final_preds, average=None)\n",
    "labels = dataset['sentiment'].unique()\n",
    "\n",
    "plt.figure(figsize=(10, 6))\n",
    "bar_width = 0.2\n",
    "\n",
    "plt.bar(np.arange(len(labels)), precision, width=bar_width, label='Precision', align='center')\n",
    "plt.bar(np.arange(len(labels)) + bar_width, recall, width=bar_width, label='Recall', align='center')\n",
    "plt.bar(np.arange(len(labels)) + bar_width * 2, f1, width=bar_width, label='F1-Score', align='center')\n",
    "\n",
    "plt.xlabel('Sentiment Category')\n",
    "plt.ylabel('Scores')\n",
    "plt.title('Hybrid Twitter Sentiment Analysis Model Metrics')\n",
    "plt.xticks(np.arange(len(labels)) + bar_width, labels)\n",
    "plt.ylim(0, 1.0)\n",
    "plt.legend()\n",
    "plt.tight_layout()\n",
    "\n",
    "# Saving plot\n",
    "plt.savefig(outputDir + '\\\\Hybrid\\\\HybridModelTwitter.png')\n",
    "plt.show()\n",
    "\n",
    "# Execution time\n",
    "end = datetime.datetime.now()\n",
    "duration = end - start\n",
    "print(\"\\nTotal program execution time:\", duration)\n",
    "\n",
    "# Garbage collection\n",
    "gc.collect()"
   ]
  }
 ],
 "metadata": {
  "kernelspec": {
   "display_name": "Python 3 (ipykernel)",
   "language": "python",
   "name": "python3"
  },
  "language_info": {
   "codemirror_mode": {
    "name": "ipython",
    "version": 3
   },
   "file_extension": ".py",
   "mimetype": "text/x-python",
   "name": "python",
   "nbconvert_exporter": "python",
   "pygments_lexer": "ipython3",
   "version": "3.11.5"
  }
 },
 "nbformat": 4,
 "nbformat_minor": 5
}
