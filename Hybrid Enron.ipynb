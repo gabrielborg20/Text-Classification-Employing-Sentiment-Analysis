{
 "cells": [
  {
   "cell_type": "code",
   "execution_count": 1,
   "id": "ab0a28b2",
   "metadata": {},
   "outputs": [
    {
     "name": "stdout",
     "output_type": "stream",
     "text": [
      "Importing necessary libraries... done!\n"
     ]
    }
   ],
   "source": [
    "print(\"Importing necessary libraries...\", end =\" \")\n",
    "import re\n",
    "import string\n",
    "import matplotlib.pyplot as plt\n",
    "%matplotlib inline\n",
    "import timeit\n",
    "import time\n",
    "import datetime\n",
    "import matplotlib.image as mpimg\n",
    "import cv2\n",
    "import gc\n",
    "import psutil\n",
    "from PIL import Image\n",
    "\n",
    "import nltk\n",
    "from nltk.corpus import stopwords\n",
    "from nltk.stem import WordNetLemmatizer\n",
    "from nltk.tokenize import word_tokenize\n",
    "from nltk.sentiment.vader import SentimentIntensityAnalyzer\n",
    "from nltk import pos_tag\n",
    "from nltk.corpus import wordnet as wn\n",
    "\n",
    "import pandas as pd\n",
    "import io\n",
    "import numpy as np\n",
    "import os\n",
    "\n",
    "from matplotlib.colors import ListedColormap\n",
    "\n",
    "import seaborn as sns\n",
    "\n",
    "from sklearn import metrics\n",
    "from sklearn import utils\n",
    "from sklearn import svm\n",
    "from sklearn.datasets import make_blobs\n",
    "from sklearn.neighbors import KNeighborsClassifier\n",
    "from sklearn.svm import SVR, LinearSVR\n",
    "from sklearn.metrics import accuracy_score, precision_score, recall_score, f1_score\n",
    "from sklearn.metrics import classification_report, confusion_matrix\n",
    "from sklearn import preprocessing\n",
    "from sklearn.preprocessing import MinMaxScaler,LabelEncoder\n",
    "from sklearn.model_selection import cross_val_score,train_test_split,cross_val_predict\n",
    "from sklearn.preprocessing import LabelEncoder\n",
    "from sklearn.feature_extraction.text import TfidfVectorizer\n",
    "from sklearn import model_selection, naive_bayes, svm\n",
    "from sklearn.linear_model import LogisticRegression\n",
    "from sklearn.tree import DecisionTreeClassifier\n",
    "from sklearn.feature_extraction.text import CountVectorizer\n",
    "from sklearn.model_selection import train_test_split\n",
    "from sklearn.preprocessing import StandardScaler\n",
    "from sklearn.utils import shuffle\n",
    "from sklearn.neural_network import MLPClassifier\n",
    "from sklearn.metrics import roc_curve, auc\n",
    "from sklearn.svm import SVC\n",
    "from sklearn.naive_bayes import MultinomialNB\n",
    "from sklearn.ensemble import VotingClassifier\n",
    "from sklearn.metrics import precision_recall_fscore_support\n",
    "\n",
    "import tensorflow as tf\n",
    "from tensorflow import keras\n",
    "from keras.layers import Dense, Embedding, LSTM, SpatialDropout1D\n",
    "from keras.layers import Bidirectional, SimpleRNN \n",
    "from keras.utils import to_categorical\n",
    "from keras.regularizers import l2\n",
    "\n",
    "from tensorflow.keras.layers import Embedding, Conv1D, GlobalMaxPooling1D, Dense, Dropout, Flatten, SimpleRNN, MaxPooling1D\n",
    "from tensorflow.keras.preprocessing.sequence import pad_sequences\n",
    "from tensorflow.keras.models import Sequential\n",
    "from tensorflow.keras.callbacks import EarlyStopping, ReduceLROnPlateau\n",
    "from tensorflow.keras.optimizers import Adam\n",
    "from tensorflow.keras.layers import Conv1D, MaxPooling1D, Flatten, Dense, Dropout, BatchNormalization\n",
    "from tensorflow.keras.layers import LSTM, Activation, Dense, Dropout, Input, Embedding\n",
    "from tensorflow.keras.models import Model\n",
    "from tensorflow.keras.optimizers import RMSprop\n",
    "from tensorflow.keras.preprocessing.text import Tokenizer\n",
    "from tensorflow.keras.preprocessing import sequence\n",
    "\n",
    "from collections import defaultdict\n",
    "\n",
    "from __future__ import absolute_import, division, print_function\n",
    "\n",
    "from joblib import Parallel, delayed\n",
    "print(\"done!\")\n",
    "\n",
    "start = datetime.datetime.now()"
   ]
  },
  {
   "cell_type": "markdown",
   "id": "a1033fe9",
   "metadata": {},
   "source": [
    "# Enron"
   ]
  },
  {
   "cell_type": "code",
   "execution_count": 2,
   "id": "71d48cd1",
   "metadata": {},
   "outputs": [
    {
     "name": "stdout",
     "output_type": "stream",
     "text": [
      "Importing Enron dataset... done!\n",
      "Removing extra  400000 rows from Enron dataset... done!\n"
     ]
    }
   ],
   "source": [
    "stop_words = set(stopwords.words('english'))\n",
    "\n",
    "lemmatizer = WordNetLemmatizer()\n",
    "analyzer = SentimentIntensityAnalyzer()\n",
    "\n",
    "target_numbers = {'Positive': 7000, 'Neutral': 7000, 'Negative': 7000}\n",
    "\n",
    "outputDir = 'C:\\\\Users\\\\Owner\\\\OneDrive\\\\Desktop\\\\My Computer\\\\AI\\\\Master of Science in Artificial Intelligence [Taught and Research (Mainly by Research)]\\\\ICS5200 Dissertation\\\\Result Screenshots\\\\Subplots\\\\'\n",
    "\n",
    "# Enron\n",
    "print(\"Importing Enron dataset...\", end =\" \"),\n",
    "data = pd.read_csv(\"./Datasets/emails.csv\")\n",
    "print(\"done!\")\n",
    "\n",
    "# Number of rows to drop\n",
    "n = 400000\n",
    "\n",
    "print(\"Removing extra \", n, \"rows from Enron dataset...\", end =\" \"),\n",
    "# Dropping last n rows using drop\n",
    "data.drop(data.tail(n).index,\n",
    "        inplace = True)\n",
    "print(\"done!\")\n",
    "\n",
    "# data.count()"
   ]
  },
  {
   "cell_type": "code",
   "execution_count": 3,
   "id": "0d0bd16f",
   "metadata": {},
   "outputs": [
    {
     "name": "stdout",
     "output_type": "stream",
     "text": [
      "Preprocessing Enron text... done!\n",
      "Labelling the text with sentiments using the VADER Sentiment Analyzer... done!\n",
      "Mapping sentiment values... done!\n",
      "Compiling final dataset... done!\n",
      "\n",
      "Rows to be removed from Enron dataset:\n",
      "Enron Neutral Sentiment entries :  12567  rows, with  5567  rows to remove.\n",
      "Enron Positive Sentiment entries:  95256 rows, with  88256  rows to remove.\n",
      "Enron Negative Sentiment entries:  9576 rows, with  2576  rows to remove.\n",
      "\n",
      "Updated Enron Neutral Sentiment entries :  7000\n",
      "Updated Enron Positive Sentiment entries:  7000\n",
      "Updated Enron Negative Sentiment entries:  7000\n",
      "CPU times: total: 4min 15s\n",
      "Wall time: 9min 5s\n"
     ]
    }
   ],
   "source": [
    "%%time\n",
    "\n",
    "def clean_email_text(email_text):\n",
    "    pattern = r\"Message-ID.*Content-Transfer-Encoding: 7bit\"\n",
    "    email_text = re.sub(pattern, \"\", email_text, flags=re.DOTALL)\n",
    "    lines = email_text.split(\"\\n\")\n",
    "    res = []\n",
    "    for line in lines:\n",
    "        if \"X-\" not in line:\n",
    "            line.replace(\"\\t\",\" \")\n",
    "            res.append(line)\n",
    "    return \" \".join(res)\n",
    "\n",
    "\n",
    "def replace_empty_string_with_Null(text):\n",
    "    if text == \"\":\n",
    "        return None\n",
    "    return text\n",
    "\n",
    "\n",
    "def remove_punctuations_and_special_characters(text):\n",
    "    return re.sub(r'[^\\w\\s]','',text)\n",
    "\n",
    "\n",
    "def preprocessing_text(text):\n",
    "    tokens = word_tokenize(text)\n",
    "    filtered_tokens = [token for token in tokens if token not in stop_words]\n",
    "    lemmatized_tokens = [lemmatizer.lemmatize(token) for token in filtered_tokens]\n",
    "    return ' '.join(lemmatized_tokens)\n",
    "\n",
    "\n",
    "def get_vader_sentiment(text):\n",
    "    scores = analyzer.polarity_scores(text)\n",
    "    return scores['compound']\n",
    "\n",
    "\n",
    "# Text preprocessing\n",
    "print(\"Preprocessing Enron text...\", end =\" \"),\n",
    "data[\"processed_message\"] = data['message'].apply(clean_email_text)\n",
    "data.processed_message = data.processed_message.apply(replace_empty_string_with_Null)\n",
    "null_values = data.processed_message.isnull()\n",
    "data.dropna(subset=['processed_message'], inplace = True)\n",
    "data.processed_message = data.processed_message.apply(lambda x: remove_punctuations_and_special_characters(x))\n",
    "data.processed_message = data.processed_message.apply(preprocessing_text)\n",
    "print(\"done!\")\n",
    "\n",
    "#Sentiment labelling\n",
    "print(\"Labelling the text with sentiments using the VADER Sentiment Analyzer...\", end =\" \"),\n",
    "data[\"vader_intensity\"] = data[\"processed_message\"].apply(get_vader_sentiment)\n",
    "print(\"done!\")\n",
    "\n",
    "# Sentiment mapping\n",
    "print(\"Mapping sentiment values...\", end =\" \"),\n",
    "data[\"vader_sentiment\"] = data[\"vader_intensity\"].apply(lambda x: \"Positive\" if x>0 else \"Negative\" if x<0 else \"Neutral\")\n",
    "print(\"done!\")\n",
    "\n",
    "# Compiling dataset.\n",
    "print(\"Compiling final dataset...\", end =\" \"),\n",
    "data = data[['processed_message', 'vader_sentiment']]\n",
    "print(\"done!\")\n",
    "\n",
    "print()\n",
    "\n",
    "difference = 7000\n",
    "# difference = 9000\n",
    "\n",
    "# Calculating extra rows to be removed.\n",
    "posDiff = (data[data.vader_sentiment == 'Positive'].shape[0]) - difference\n",
    "negDiff = (data[data.vader_sentiment == 'Negative'].shape[0]) - difference\n",
    "neuDiff = (data[data.vader_sentiment == 'Neutral'].shape[0]) - difference\n",
    "\n",
    "print(\"Rows to be removed from Enron dataset:\")\n",
    "print(\"Enron Neutral Sentiment entries : \", data[data.vader_sentiment == 'Neutral'].shape[0], \" rows, with \", neuDiff, \" rows to remove.\")\n",
    "print(\"Enron Positive Sentiment entries: \", data[data.vader_sentiment == 'Positive'].shape[0], \"rows, with \", posDiff, \" rows to remove.\")\n",
    "print(\"Enron Negative Sentiment entries: \", data[data.vader_sentiment == 'Negative'].shape[0], \"rows, with \", negDiff, \" rows to remove.\")\n",
    "\n",
    "print()\n",
    "\n",
    "# Removing extra rows to end up with a dataset containing equal sentiment distribution.\n",
    "data = data.drop(data[data['vader_sentiment'] == 'Neutral'].sample(n=neuDiff, random_state=42).index)\n",
    "data = data.drop(data[data['vader_sentiment'] == 'Positive'].sample(n=posDiff, random_state=42).index)\n",
    "data = data.drop(data[data['vader_sentiment'] == 'Negative'].sample(n=negDiff, random_state=42).index)\n",
    "\n",
    "print(\"Updated Enron Neutral Sentiment entries : \", data[data.vader_sentiment == 'Neutral'].shape[0])\n",
    "print(\"Updated Enron Positive Sentiment entries: \", data[data.vader_sentiment == 'Positive'].shape[0])\n",
    "print(\"Updated Enron Negative Sentiment entries: \", data[data.vader_sentiment == 'Negative'].shape[0])"
   ]
  },
  {
   "cell_type": "code",
   "execution_count": 4,
   "id": "5084672f",
   "metadata": {},
   "outputs": [
    {
     "name": "stdout",
     "output_type": "stream",
     "text": [
      "Splitting data into train and test sets... done!\n",
      "Vectorizing text data... done!\n",
      "CPU times: total: 953 ms\n",
      "Wall time: 2.04 s\n"
     ]
    }
   ],
   "source": [
    "%%time\n",
    "\n",
    "X = data['processed_message']\n",
    "y = data['vader_sentiment']\n",
    "\n",
    "label_encoder = LabelEncoder()\n",
    "y_encoded = label_encoder.fit_transform(y)\n",
    "\n",
    "# Train-test split\n",
    "print(\"Splitting data into train and test sets...\", end = \" \")\n",
    "X_train, X_test, y_train, y_test = train_test_split(X, y_encoded, test_size=0.2, random_state=42)\n",
    "print(\"done!\")\n",
    "\n",
    "# Vectorize the text data\n",
    "print(\"Vectorizing text data...\", end = \" \")\n",
    "vectorizer = CountVectorizer()\n",
    "X_train_vec = vectorizer.fit_transform(X_train)\n",
    "X_test_vec = vectorizer.transform(X_test)\n",
    "print(\"done!\")"
   ]
  },
  {
   "cell_type": "code",
   "execution_count": 5,
   "id": "14abefaa",
   "metadata": {},
   "outputs": [
    {
     "name": "stdout",
     "output_type": "stream",
     "text": [
      "Initializing machine learning models... done!\n",
      "Combining ML models using VotingClassifier... done!\n",
      "Training SVM model... done!\n",
      "Training Naive Bayes model... done!\n",
      "Training Logistic Regression model... "
     ]
    },
    {
     "name": "stderr",
     "output_type": "stream",
     "text": [
      "D:\\Anaconda Download\\Lib\\site-packages\\sklearn\\linear_model\\_logistic.py:460: ConvergenceWarning: lbfgs failed to converge (status=1):\n",
      "STOP: TOTAL NO. of ITERATIONS REACHED LIMIT.\n",
      "\n",
      "Increase the number of iterations (max_iter) or scale the data as shown in:\n",
      "    https://scikit-learn.org/stable/modules/preprocessing.html\n",
      "Please also refer to the documentation for alternative solver options:\n",
      "    https://scikit-learn.org/stable/modules/linear_model.html#logistic-regression\n",
      "  n_iter_i = _check_optimize_result(\n"
     ]
    },
    {
     "name": "stdout",
     "output_type": "stream",
     "text": [
      "done!\n",
      "Training Decision Tree model... done!\n",
      "Fitting the VotingClassifier with trained models... "
     ]
    },
    {
     "name": "stderr",
     "output_type": "stream",
     "text": [
      "D:\\Anaconda Download\\Lib\\site-packages\\sklearn\\linear_model\\_logistic.py:460: ConvergenceWarning: lbfgs failed to converge (status=1):\n",
      "STOP: TOTAL NO. of ITERATIONS REACHED LIMIT.\n",
      "\n",
      "Increase the number of iterations (max_iter) or scale the data as shown in:\n",
      "    https://scikit-learn.org/stable/modules/preprocessing.html\n",
      "Please also refer to the documentation for alternative solver options:\n",
      "    https://scikit-learn.org/stable/modules/linear_model.html#logistic-regression\n",
      "  n_iter_i = _check_optimize_result(\n"
     ]
    },
    {
     "name": "stdout",
     "output_type": "stream",
     "text": [
      "done!\n",
      "Making predictions with the VotingClassifier... done!\n",
      "CPU times: total: 6min 26s\n",
      "Wall time: 15min 7s\n"
     ]
    }
   ],
   "source": [
    "%%time\n",
    "\n",
    "# Machine Learning Models\n",
    "print(\"Initializing machine learning models...\", end = \" \")\n",
    "svm_model = SVC(probability=True)\n",
    "nb_model = MultinomialNB()\n",
    "lr_model = LogisticRegression(max_iter=200)\n",
    "dt_model = DecisionTreeClassifier()\n",
    "print(\"done!\")\n",
    "\n",
    "\n",
    "# Combine ML models using VotingClassifier\n",
    "print(\"Combining ML models using VotingClassifier...\", end = \" \")\n",
    "voting_clf = VotingClassifier(estimators=[\n",
    "    ('svm', svm_model),\n",
    "    ('nb', nb_model),\n",
    "    ('lr', lr_model),\n",
    "    ('dt', dt_model)\n",
    "], voting='soft')\n",
    "print(\"done!\")\n",
    "\n",
    "\n",
    "# Train each model sequentially\n",
    "print(\"Training SVM model...\", end = \" \")\n",
    "svm_model.fit(X_train_vec, y_train)\n",
    "print(\"done!\")\n",
    "\n",
    "print(\"Training Naive Bayes model...\", end = \" \")\n",
    "nb_model.fit(X_train_vec, y_train)\n",
    "print(\"done!\")\n",
    "\n",
    "print(\"Training Logistic Regression model...\", end = \" \")\n",
    "lr_model.fit(X_train_vec, y_train)\n",
    "print(\"done!\")\n",
    "\n",
    "print(\"Training Decision Tree model...\", end = \" \")\n",
    "dt_model.fit(X_train_vec, y_train)\n",
    "print(\"done!\")\n",
    "\n",
    "print(\"Fitting the VotingClassifier with trained models...\", end = \" \")\n",
    "# Fit the VotingClassifier with trained models\n",
    "voting_clf.estimators_ = [('svm', svm_model), ('nb', nb_model), ('lr', lr_model), ('dt', dt_model)]\n",
    "voting_clf.fit(X_train_vec, y_train)\n",
    "print(\"done!\")\n",
    "\n",
    "# Predictions from VotingClassifier\n",
    "print(\"Making predictions with the VotingClassifier...\", end = \" \")\n",
    "ml_preds = voting_clf.predict_proba(X_test_vec)\n",
    "print(\"done!\")"
   ]
  },
  {
   "cell_type": "code",
   "execution_count": 6,
   "id": "9e655c66",
   "metadata": {
    "scrolled": true
   },
   "outputs": [
    {
     "name": "stderr",
     "output_type": "stream",
     "text": [
      "D:\\Anaconda Download\\Lib\\site-packages\\keras\\src\\layers\\rnn\\rnn.py:204: UserWarning: Do not pass an `input_shape`/`input_dim` argument to a layer. When using Sequential models, prefer using an `Input(shape)` object as the first layer in the model instead.\n",
      "  super().__init__(**kwargs)\n"
     ]
    },
    {
     "data": {
      "text/html": [
       "<pre style=\"white-space:pre;overflow-x:auto;line-height:normal;font-family:Menlo,'DejaVu Sans Mono',consolas,'Courier New',monospace\"><span style=\"font-weight: bold\">Model: \"sequential\"</span>\n",
       "</pre>\n"
      ],
      "text/plain": [
       "\u001b[1mModel: \"sequential\"\u001b[0m\n"
      ]
     },
     "metadata": {},
     "output_type": "display_data"
    },
    {
     "data": {
      "text/html": [
       "<pre style=\"white-space:pre;overflow-x:auto;line-height:normal;font-family:Menlo,'DejaVu Sans Mono',consolas,'Courier New',monospace\">┏━━━━━━━━━━━━━━━━━━━━━━━━━━━━━━━━━━━━━━┳━━━━━━━━━━━━━━━━━━━━━━━━━━━━━┳━━━━━━━━━━━━━━━━━┓\n",
       "┃<span style=\"font-weight: bold\"> Layer (type)                         </span>┃<span style=\"font-weight: bold\"> Output Shape                </span>┃<span style=\"font-weight: bold\">         Param # </span>┃\n",
       "┡━━━━━━━━━━━━━━━━━━━━━━━━━━━━━━━━━━━━━━╇━━━━━━━━━━━━━━━━━━━━━━━━━━━━━╇━━━━━━━━━━━━━━━━━┩\n",
       "│ lstm (<span style=\"color: #0087ff; text-decoration-color: #0087ff\">LSTM</span>)                          │ (<span style=\"color: #00d7ff; text-decoration-color: #00d7ff\">None</span>, <span style=\"color: #00af00; text-decoration-color: #00af00\">64</span>)                  │      <span style=\"color: #00af00; text-decoration-color: #00af00\">31,708,928</span> │\n",
       "├──────────────────────────────────────┼─────────────────────────────┼─────────────────┤\n",
       "│ dense (<span style=\"color: #0087ff; text-decoration-color: #0087ff\">Dense</span>)                        │ (<span style=\"color: #00d7ff; text-decoration-color: #00d7ff\">None</span>, <span style=\"color: #00af00; text-decoration-color: #00af00\">64</span>)                  │           <span style=\"color: #00af00; text-decoration-color: #00af00\">4,160</span> │\n",
       "├──────────────────────────────────────┼─────────────────────────────┼─────────────────┤\n",
       "│ dropout (<span style=\"color: #0087ff; text-decoration-color: #0087ff\">Dropout</span>)                    │ (<span style=\"color: #00d7ff; text-decoration-color: #00d7ff\">None</span>, <span style=\"color: #00af00; text-decoration-color: #00af00\">64</span>)                  │               <span style=\"color: #00af00; text-decoration-color: #00af00\">0</span> │\n",
       "├──────────────────────────────────────┼─────────────────────────────┼─────────────────┤\n",
       "│ dense_1 (<span style=\"color: #0087ff; text-decoration-color: #0087ff\">Dense</span>)                      │ (<span style=\"color: #00d7ff; text-decoration-color: #00d7ff\">None</span>, <span style=\"color: #00af00; text-decoration-color: #00af00\">32</span>)                  │           <span style=\"color: #00af00; text-decoration-color: #00af00\">2,080</span> │\n",
       "├──────────────────────────────────────┼─────────────────────────────┼─────────────────┤\n",
       "│ dropout_1 (<span style=\"color: #0087ff; text-decoration-color: #0087ff\">Dropout</span>)                  │ (<span style=\"color: #00d7ff; text-decoration-color: #00d7ff\">None</span>, <span style=\"color: #00af00; text-decoration-color: #00af00\">32</span>)                  │               <span style=\"color: #00af00; text-decoration-color: #00af00\">0</span> │\n",
       "├──────────────────────────────────────┼─────────────────────────────┼─────────────────┤\n",
       "│ dense_2 (<span style=\"color: #0087ff; text-decoration-color: #0087ff\">Dense</span>)                      │ (<span style=\"color: #00d7ff; text-decoration-color: #00d7ff\">None</span>, <span style=\"color: #00af00; text-decoration-color: #00af00\">3</span>)                   │              <span style=\"color: #00af00; text-decoration-color: #00af00\">99</span> │\n",
       "└──────────────────────────────────────┴─────────────────────────────┴─────────────────┘\n",
       "</pre>\n"
      ],
      "text/plain": [
       "┏━━━━━━━━━━━━━━━━━━━━━━━━━━━━━━━━━━━━━━┳━━━━━━━━━━━━━━━━━━━━━━━━━━━━━┳━━━━━━━━━━━━━━━━━┓\n",
       "┃\u001b[1m \u001b[0m\u001b[1mLayer (type)                        \u001b[0m\u001b[1m \u001b[0m┃\u001b[1m \u001b[0m\u001b[1mOutput Shape               \u001b[0m\u001b[1m \u001b[0m┃\u001b[1m \u001b[0m\u001b[1m        Param #\u001b[0m\u001b[1m \u001b[0m┃\n",
       "┡━━━━━━━━━━━━━━━━━━━━━━━━━━━━━━━━━━━━━━╇━━━━━━━━━━━━━━━━━━━━━━━━━━━━━╇━━━━━━━━━━━━━━━━━┩\n",
       "│ lstm (\u001b[38;5;33mLSTM\u001b[0m)                          │ (\u001b[38;5;45mNone\u001b[0m, \u001b[38;5;34m64\u001b[0m)                  │      \u001b[38;5;34m31,708,928\u001b[0m │\n",
       "├──────────────────────────────────────┼─────────────────────────────┼─────────────────┤\n",
       "│ dense (\u001b[38;5;33mDense\u001b[0m)                        │ (\u001b[38;5;45mNone\u001b[0m, \u001b[38;5;34m64\u001b[0m)                  │           \u001b[38;5;34m4,160\u001b[0m │\n",
       "├──────────────────────────────────────┼─────────────────────────────┼─────────────────┤\n",
       "│ dropout (\u001b[38;5;33mDropout\u001b[0m)                    │ (\u001b[38;5;45mNone\u001b[0m, \u001b[38;5;34m64\u001b[0m)                  │               \u001b[38;5;34m0\u001b[0m │\n",
       "├──────────────────────────────────────┼─────────────────────────────┼─────────────────┤\n",
       "│ dense_1 (\u001b[38;5;33mDense\u001b[0m)                      │ (\u001b[38;5;45mNone\u001b[0m, \u001b[38;5;34m32\u001b[0m)                  │           \u001b[38;5;34m2,080\u001b[0m │\n",
       "├──────────────────────────────────────┼─────────────────────────────┼─────────────────┤\n",
       "│ dropout_1 (\u001b[38;5;33mDropout\u001b[0m)                  │ (\u001b[38;5;45mNone\u001b[0m, \u001b[38;5;34m32\u001b[0m)                  │               \u001b[38;5;34m0\u001b[0m │\n",
       "├──────────────────────────────────────┼─────────────────────────────┼─────────────────┤\n",
       "│ dense_2 (\u001b[38;5;33mDense\u001b[0m)                      │ (\u001b[38;5;45mNone\u001b[0m, \u001b[38;5;34m3\u001b[0m)                   │              \u001b[38;5;34m99\u001b[0m │\n",
       "└──────────────────────────────────────┴─────────────────────────────┴─────────────────┘\n"
      ]
     },
     "metadata": {},
     "output_type": "display_data"
    },
    {
     "data": {
      "text/html": [
       "<pre style=\"white-space:pre;overflow-x:auto;line-height:normal;font-family:Menlo,'DejaVu Sans Mono',consolas,'Courier New',monospace\"><span style=\"font-weight: bold\"> Total params: </span><span style=\"color: #00af00; text-decoration-color: #00af00\">31,715,267</span> (120.98 MB)\n",
       "</pre>\n"
      ],
      "text/plain": [
       "\u001b[1m Total params: \u001b[0m\u001b[38;5;34m31,715,267\u001b[0m (120.98 MB)\n"
      ]
     },
     "metadata": {},
     "output_type": "display_data"
    },
    {
     "data": {
      "text/html": [
       "<pre style=\"white-space:pre;overflow-x:auto;line-height:normal;font-family:Menlo,'DejaVu Sans Mono',consolas,'Courier New',monospace\"><span style=\"font-weight: bold\"> Trainable params: </span><span style=\"color: #00af00; text-decoration-color: #00af00\">31,715,267</span> (120.98 MB)\n",
       "</pre>\n"
      ],
      "text/plain": [
       "\u001b[1m Trainable params: \u001b[0m\u001b[38;5;34m31,715,267\u001b[0m (120.98 MB)\n"
      ]
     },
     "metadata": {},
     "output_type": "display_data"
    },
    {
     "data": {
      "text/html": [
       "<pre style=\"white-space:pre;overflow-x:auto;line-height:normal;font-family:Menlo,'DejaVu Sans Mono',consolas,'Courier New',monospace\"><span style=\"font-weight: bold\"> Non-trainable params: </span><span style=\"color: #00af00; text-decoration-color: #00af00\">0</span> (0.00 B)\n",
       "</pre>\n"
      ],
      "text/plain": [
       "\u001b[1m Non-trainable params: \u001b[0m\u001b[38;5;34m0\u001b[0m (0.00 B)\n"
      ]
     },
     "metadata": {},
     "output_type": "display_data"
    },
    {
     "name": "stdout",
     "output_type": "stream",
     "text": [
      "Epoch 1/10\n",
      "\u001b[1m152/152\u001b[0m \u001b[32m━━━━━━━━━━━━━━━━━━━━\u001b[0m\u001b[37m\u001b[0m \u001b[1m22s\u001b[0m 130ms/step - accuracy: 0.4685 - loss: 1.4811 - val_accuracy: 0.8304 - val_loss: 0.6541\n",
      "Epoch 2/10\n",
      "\u001b[1m152/152\u001b[0m \u001b[32m━━━━━━━━━━━━━━━━━━━━\u001b[0m\u001b[37m\u001b[0m \u001b[1m18s\u001b[0m 119ms/step - accuracy: 0.8854 - loss: 0.5144 - val_accuracy: 0.8827 - val_loss: 0.4068\n",
      "Epoch 3/10\n",
      "\u001b[1m152/152\u001b[0m \u001b[32m━━━━━━━━━━━━━━━━━━━━\u001b[0m\u001b[37m\u001b[0m \u001b[1m18s\u001b[0m 119ms/step - accuracy: 0.9725 - loss: 0.2291 - val_accuracy: 0.8917 - val_loss: 0.3715\n",
      "Epoch 4/10\n",
      "\u001b[1m152/152\u001b[0m \u001b[32m━━━━━━━━━━━━━━━━━━━━\u001b[0m\u001b[37m\u001b[0m \u001b[1m18s\u001b[0m 119ms/step - accuracy: 0.9859 - loss: 0.1611 - val_accuracy: 0.8935 - val_loss: 0.3825\n",
      "Epoch 5/10\n",
      "\u001b[1m152/152\u001b[0m \u001b[32m━━━━━━━━━━━━━━━━━━━━\u001b[0m\u001b[37m\u001b[0m \u001b[1m18s\u001b[0m 119ms/step - accuracy: 0.9915 - loss: 0.1259 - val_accuracy: 0.8929 - val_loss: 0.3789\n",
      "Epoch 6/10\n",
      "\u001b[1m152/152\u001b[0m \u001b[32m━━━━━━━━━━━━━━━━━━━━\u001b[0m\u001b[37m\u001b[0m \u001b[1m18s\u001b[0m 119ms/step - accuracy: 0.9941 - loss: 0.1063 - val_accuracy: 0.8952 - val_loss: 0.3866\n",
      "\u001b[1m132/132\u001b[0m \u001b[32m━━━━━━━━━━━━━━━━━━━━\u001b[0m\u001b[37m\u001b[0m \u001b[1m2s\u001b[0m 16ms/step\n",
      "done!\n",
      "              precision    recall  f1-score   support\n",
      "\n",
      "    Negative       0.89      0.88      0.89      1429\n",
      "     Neutral       0.92      0.94      0.93      1358\n",
      "    Positive       0.90      0.88      0.89      1413\n",
      "\n",
      "    accuracy                           0.90      4200\n",
      "   macro avg       0.90      0.90      0.90      4200\n",
      "weighted avg       0.90      0.90      0.90      4200\n",
      "\n",
      "CPU times: total: 6min 45s\n",
      "Wall time: 2min 42s\n"
     ]
    }
   ],
   "source": [
    "%%time\n",
    "\n",
    "label_encoder = LabelEncoder()\n",
    "y_encoded = label_encoder.fit_transform(y)\n",
    "\n",
    "X_train, X_test, y_train, y_test = train_test_split(X, y_encoded, test_size=0.2, random_state=42)\n",
    "\n",
    "vectorizer = TfidfVectorizer()\n",
    "X_train_vec = vectorizer.fit_transform(X_train.values.astype('U')).toarray()\n",
    "X_test_vec = vectorizer.transform(X_test.values.astype('U')).toarray()\n",
    "\n",
    "# Reshape data for LSTM\n",
    "max_features = X_train_vec.shape[1]\n",
    "maxlen = X_train_vec.shape[0]\n",
    "\n",
    "X_train_lstm = X_train_vec.reshape(maxlen, 1, max_features)\n",
    "X_test_lstm = X_test_vec.reshape(X_test_vec.shape[0], 1, max_features)\n",
    "\n",
    "# Convert labels to one-hot encoding\n",
    "y_train_onehot = to_categorical(y_train)\n",
    "y_test_onehot = to_categorical(y_test)\n",
    "\n",
    "# Best layers so far.\n",
    "lstm_model = Sequential()\n",
    "lstm_model.add(LSTM(64, input_shape=(1, max_features))),\n",
    "lstm_model.add(Dense(64, activation='relu', kernel_regularizer=tf.keras.regularizers.l2(0.01))),\n",
    "lstm_model.add(Dropout(0.4)),\n",
    "lstm_model.add(Dense(32, activation='relu', kernel_regularizer=tf.keras.regularizers.l2(0.001))),\n",
    "lstm_model.add(Dropout(0.4)),\n",
    "lstm_model.add(Dense(3, activation='softmax'))\n",
    "\n",
    "# Compile the model\n",
    "lstm_model.compile(loss='categorical_crossentropy', optimizer='adam', metrics=['accuracy'])\n",
    "\n",
    "lstm_model.summary()\n",
    "\n",
    "# Define early stopping callback\n",
    "early_stopping = EarlyStopping(monitor='val_loss', patience=3, restore_best_weights=True)\n",
    "\n",
    "lstm_model.fit(X_train_lstm, y_train_onehot, batch_size=100, epochs=10, validation_split=0.1, callbacks=[early_stopping])\n",
    "\n",
    "print(\"Predicting with LSTM model...\", end = \" \")\n",
    "# Reshape the encoded texts for LSTM input\n",
    "lstm_preds = lstm_model.predict(X_test_lstm).argmax(axis=1)  # Get the class with highest probability\n",
    "print(\"done!\")\n",
    "\n",
    "class_report = classification_report(y_test, lstm_preds, target_names=label_encoder.classes_)\n",
    "print(class_report)"
   ]
  },
  {
   "cell_type": "code",
   "execution_count": 7,
   "id": "91e8750d",
   "metadata": {
    "scrolled": true
   },
   "outputs": [
    {
     "name": "stderr",
     "output_type": "stream",
     "text": [
      "D:\\Anaconda Download\\Lib\\site-packages\\keras\\src\\layers\\core\\dense.py:87: UserWarning: Do not pass an `input_shape`/`input_dim` argument to a layer. When using Sequential models, prefer using an `Input(shape)` object as the first layer in the model instead.\n",
      "  super().__init__(activity_regularizer=activity_regularizer, **kwargs)\n"
     ]
    },
    {
     "data": {
      "text/html": [
       "<pre style=\"white-space:pre;overflow-x:auto;line-height:normal;font-family:Menlo,'DejaVu Sans Mono',consolas,'Courier New',monospace\"><span style=\"font-weight: bold\">Model: \"sequential_1\"</span>\n",
       "</pre>\n"
      ],
      "text/plain": [
       "\u001b[1mModel: \"sequential_1\"\u001b[0m\n"
      ]
     },
     "metadata": {},
     "output_type": "display_data"
    },
    {
     "data": {
      "text/html": [
       "<pre style=\"white-space:pre;overflow-x:auto;line-height:normal;font-family:Menlo,'DejaVu Sans Mono',consolas,'Courier New',monospace\">┏━━━━━━━━━━━━━━━━━━━━━━━━━━━━━━━━━━━━━━┳━━━━━━━━━━━━━━━━━━━━━━━━━━━━━┳━━━━━━━━━━━━━━━━━┓\n",
       "┃<span style=\"font-weight: bold\"> Layer (type)                         </span>┃<span style=\"font-weight: bold\"> Output Shape                </span>┃<span style=\"font-weight: bold\">         Param # </span>┃\n",
       "┡━━━━━━━━━━━━━━━━━━━━━━━━━━━━━━━━━━━━━━╇━━━━━━━━━━━━━━━━━━━━━━━━━━━━━╇━━━━━━━━━━━━━━━━━┩\n",
       "│ dense_3 (<span style=\"color: #0087ff; text-decoration-color: #0087ff\">Dense</span>)                      │ (<span style=\"color: #00d7ff; text-decoration-color: #00d7ff\">None</span>, <span style=\"color: #00af00; text-decoration-color: #00af00\">256</span>)                 │       <span style=\"color: #00af00; text-decoration-color: #00af00\">1,024,256</span> │\n",
       "├──────────────────────────────────────┼─────────────────────────────┼─────────────────┤\n",
       "│ dropout_2 (<span style=\"color: #0087ff; text-decoration-color: #0087ff\">Dropout</span>)                  │ (<span style=\"color: #00d7ff; text-decoration-color: #00d7ff\">None</span>, <span style=\"color: #00af00; text-decoration-color: #00af00\">256</span>)                 │               <span style=\"color: #00af00; text-decoration-color: #00af00\">0</span> │\n",
       "├──────────────────────────────────────┼─────────────────────────────┼─────────────────┤\n",
       "│ dense_4 (<span style=\"color: #0087ff; text-decoration-color: #0087ff\">Dense</span>)                      │ (<span style=\"color: #00d7ff; text-decoration-color: #00d7ff\">None</span>, <span style=\"color: #00af00; text-decoration-color: #00af00\">128</span>)                 │          <span style=\"color: #00af00; text-decoration-color: #00af00\">32,896</span> │\n",
       "├──────────────────────────────────────┼─────────────────────────────┼─────────────────┤\n",
       "│ dropout_3 (<span style=\"color: #0087ff; text-decoration-color: #0087ff\">Dropout</span>)                  │ (<span style=\"color: #00d7ff; text-decoration-color: #00d7ff\">None</span>, <span style=\"color: #00af00; text-decoration-color: #00af00\">128</span>)                 │               <span style=\"color: #00af00; text-decoration-color: #00af00\">0</span> │\n",
       "├──────────────────────────────────────┼─────────────────────────────┼─────────────────┤\n",
       "│ dense_5 (<span style=\"color: #0087ff; text-decoration-color: #0087ff\">Dense</span>)                      │ (<span style=\"color: #00d7ff; text-decoration-color: #00d7ff\">None</span>, <span style=\"color: #00af00; text-decoration-color: #00af00\">64</span>)                  │           <span style=\"color: #00af00; text-decoration-color: #00af00\">8,256</span> │\n",
       "├──────────────────────────────────────┼─────────────────────────────┼─────────────────┤\n",
       "│ dropout_4 (<span style=\"color: #0087ff; text-decoration-color: #0087ff\">Dropout</span>)                  │ (<span style=\"color: #00d7ff; text-decoration-color: #00d7ff\">None</span>, <span style=\"color: #00af00; text-decoration-color: #00af00\">64</span>)                  │               <span style=\"color: #00af00; text-decoration-color: #00af00\">0</span> │\n",
       "├──────────────────────────────────────┼─────────────────────────────┼─────────────────┤\n",
       "│ dense_6 (<span style=\"color: #0087ff; text-decoration-color: #0087ff\">Dense</span>)                      │ (<span style=\"color: #00d7ff; text-decoration-color: #00d7ff\">None</span>, <span style=\"color: #00af00; text-decoration-color: #00af00\">3</span>)                   │             <span style=\"color: #00af00; text-decoration-color: #00af00\">195</span> │\n",
       "└──────────────────────────────────────┴─────────────────────────────┴─────────────────┘\n",
       "</pre>\n"
      ],
      "text/plain": [
       "┏━━━━━━━━━━━━━━━━━━━━━━━━━━━━━━━━━━━━━━┳━━━━━━━━━━━━━━━━━━━━━━━━━━━━━┳━━━━━━━━━━━━━━━━━┓\n",
       "┃\u001b[1m \u001b[0m\u001b[1mLayer (type)                        \u001b[0m\u001b[1m \u001b[0m┃\u001b[1m \u001b[0m\u001b[1mOutput Shape               \u001b[0m\u001b[1m \u001b[0m┃\u001b[1m \u001b[0m\u001b[1m        Param #\u001b[0m\u001b[1m \u001b[0m┃\n",
       "┡━━━━━━━━━━━━━━━━━━━━━━━━━━━━━━━━━━━━━━╇━━━━━━━━━━━━━━━━━━━━━━━━━━━━━╇━━━━━━━━━━━━━━━━━┩\n",
       "│ dense_3 (\u001b[38;5;33mDense\u001b[0m)                      │ (\u001b[38;5;45mNone\u001b[0m, \u001b[38;5;34m256\u001b[0m)                 │       \u001b[38;5;34m1,024,256\u001b[0m │\n",
       "├──────────────────────────────────────┼─────────────────────────────┼─────────────────┤\n",
       "│ dropout_2 (\u001b[38;5;33mDropout\u001b[0m)                  │ (\u001b[38;5;45mNone\u001b[0m, \u001b[38;5;34m256\u001b[0m)                 │               \u001b[38;5;34m0\u001b[0m │\n",
       "├──────────────────────────────────────┼─────────────────────────────┼─────────────────┤\n",
       "│ dense_4 (\u001b[38;5;33mDense\u001b[0m)                      │ (\u001b[38;5;45mNone\u001b[0m, \u001b[38;5;34m128\u001b[0m)                 │          \u001b[38;5;34m32,896\u001b[0m │\n",
       "├──────────────────────────────────────┼─────────────────────────────┼─────────────────┤\n",
       "│ dropout_3 (\u001b[38;5;33mDropout\u001b[0m)                  │ (\u001b[38;5;45mNone\u001b[0m, \u001b[38;5;34m128\u001b[0m)                 │               \u001b[38;5;34m0\u001b[0m │\n",
       "├──────────────────────────────────────┼─────────────────────────────┼─────────────────┤\n",
       "│ dense_5 (\u001b[38;5;33mDense\u001b[0m)                      │ (\u001b[38;5;45mNone\u001b[0m, \u001b[38;5;34m64\u001b[0m)                  │           \u001b[38;5;34m8,256\u001b[0m │\n",
       "├──────────────────────────────────────┼─────────────────────────────┼─────────────────┤\n",
       "│ dropout_4 (\u001b[38;5;33mDropout\u001b[0m)                  │ (\u001b[38;5;45mNone\u001b[0m, \u001b[38;5;34m64\u001b[0m)                  │               \u001b[38;5;34m0\u001b[0m │\n",
       "├──────────────────────────────────────┼─────────────────────────────┼─────────────────┤\n",
       "│ dense_6 (\u001b[38;5;33mDense\u001b[0m)                      │ (\u001b[38;5;45mNone\u001b[0m, \u001b[38;5;34m3\u001b[0m)                   │             \u001b[38;5;34m195\u001b[0m │\n",
       "└──────────────────────────────────────┴─────────────────────────────┴─────────────────┘\n"
      ]
     },
     "metadata": {},
     "output_type": "display_data"
    },
    {
     "data": {
      "text/html": [
       "<pre style=\"white-space:pre;overflow-x:auto;line-height:normal;font-family:Menlo,'DejaVu Sans Mono',consolas,'Courier New',monospace\"><span style=\"font-weight: bold\"> Total params: </span><span style=\"color: #00af00; text-decoration-color: #00af00\">1,065,603</span> (4.06 MB)\n",
       "</pre>\n"
      ],
      "text/plain": [
       "\u001b[1m Total params: \u001b[0m\u001b[38;5;34m1,065,603\u001b[0m (4.06 MB)\n"
      ]
     },
     "metadata": {},
     "output_type": "display_data"
    },
    {
     "data": {
      "text/html": [
       "<pre style=\"white-space:pre;overflow-x:auto;line-height:normal;font-family:Menlo,'DejaVu Sans Mono',consolas,'Courier New',monospace\"><span style=\"font-weight: bold\"> Trainable params: </span><span style=\"color: #00af00; text-decoration-color: #00af00\">1,065,603</span> (4.06 MB)\n",
       "</pre>\n"
      ],
      "text/plain": [
       "\u001b[1m Trainable params: \u001b[0m\u001b[38;5;34m1,065,603\u001b[0m (4.06 MB)\n"
      ]
     },
     "metadata": {},
     "output_type": "display_data"
    },
    {
     "data": {
      "text/html": [
       "<pre style=\"white-space:pre;overflow-x:auto;line-height:normal;font-family:Menlo,'DejaVu Sans Mono',consolas,'Courier New',monospace\"><span style=\"font-weight: bold\"> Non-trainable params: </span><span style=\"color: #00af00; text-decoration-color: #00af00\">0</span> (0.00 B)\n",
       "</pre>\n"
      ],
      "text/plain": [
       "\u001b[1m Non-trainable params: \u001b[0m\u001b[38;5;34m0\u001b[0m (0.00 B)\n"
      ]
     },
     "metadata": {},
     "output_type": "display_data"
    },
    {
     "name": "stdout",
     "output_type": "stream",
     "text": [
      "Epoch 1/20\n",
      "\u001b[1m152/152\u001b[0m \u001b[32m━━━━━━━━━━━━━━━━━━━━\u001b[0m\u001b[37m\u001b[0m \u001b[1m3s\u001b[0m 13ms/step - accuracy: 0.5656 - loss: 2.2621 - val_accuracy: 0.8250 - val_loss: 0.8171\n",
      "Epoch 2/20\n",
      "\u001b[1m152/152\u001b[0m \u001b[32m━━━━━━━━━━━━━━━━━━━━\u001b[0m\u001b[37m\u001b[0m \u001b[1m2s\u001b[0m 12ms/step - accuracy: 0.8318 - loss: 0.8080 - val_accuracy: 0.8321 - val_loss: 0.7702\n",
      "Epoch 3/20\n",
      "\u001b[1m152/152\u001b[0m \u001b[32m━━━━━━━━━━━━━━━━━━━━\u001b[0m\u001b[37m\u001b[0m \u001b[1m2s\u001b[0m 12ms/step - accuracy: 0.8515 - loss: 0.7480 - val_accuracy: 0.8548 - val_loss: 0.7279\n",
      "Epoch 4/20\n",
      "\u001b[1m152/152\u001b[0m \u001b[32m━━━━━━━━━━━━━━━━━━━━\u001b[0m\u001b[37m\u001b[0m \u001b[1m2s\u001b[0m 12ms/step - accuracy: 0.8737 - loss: 0.6893 - val_accuracy: 0.8548 - val_loss: 0.6741\n",
      "Epoch 5/20\n",
      "\u001b[1m152/152\u001b[0m \u001b[32m━━━━━━━━━━━━━━━━━━━━\u001b[0m\u001b[37m\u001b[0m \u001b[1m2s\u001b[0m 10ms/step - accuracy: 0.8805 - loss: 0.6540 - val_accuracy: 0.8625 - val_loss: 0.6810\n",
      "Epoch 6/20\n",
      "\u001b[1m152/152\u001b[0m \u001b[32m━━━━━━━━━━━━━━━━━━━━\u001b[0m\u001b[37m\u001b[0m \u001b[1m2s\u001b[0m 12ms/step - accuracy: 0.8892 - loss: 0.6341 - val_accuracy: 0.8702 - val_loss: 0.6527\n",
      "Epoch 7/20\n",
      "\u001b[1m152/152\u001b[0m \u001b[32m━━━━━━━━━━━━━━━━━━━━\u001b[0m\u001b[37m\u001b[0m \u001b[1m2s\u001b[0m 12ms/step - accuracy: 0.8916 - loss: 0.6098 - val_accuracy: 0.8744 - val_loss: 0.6390\n",
      "Epoch 8/20\n",
      "\u001b[1m152/152\u001b[0m \u001b[32m━━━━━━━━━━━━━━━━━━━━\u001b[0m\u001b[37m\u001b[0m \u001b[1m2s\u001b[0m 10ms/step - accuracy: 0.9027 - loss: 0.5847 - val_accuracy: 0.8792 - val_loss: 0.6170\n",
      "Epoch 9/20\n",
      "\u001b[1m152/152\u001b[0m \u001b[32m━━━━━━━━━━━━━━━━━━━━\u001b[0m\u001b[37m\u001b[0m \u001b[1m2s\u001b[0m 12ms/step - accuracy: 0.9014 - loss: 0.5810 - val_accuracy: 0.8744 - val_loss: 0.6229\n",
      "Epoch 10/20\n",
      "\u001b[1m152/152\u001b[0m \u001b[32m━━━━━━━━━━━━━━━━━━━━\u001b[0m\u001b[37m\u001b[0m \u001b[1m1s\u001b[0m 9ms/step - accuracy: 0.9145 - loss: 0.5431 - val_accuracy: 0.8768 - val_loss: 0.6212\n",
      "Epoch 11/20\n",
      "\u001b[1m152/152\u001b[0m \u001b[32m━━━━━━━━━━━━━━━━━━━━\u001b[0m\u001b[37m\u001b[0m \u001b[1m1s\u001b[0m 9ms/step - accuracy: 0.9110 - loss: 0.5593 - val_accuracy: 0.8893 - val_loss: 0.5941\n",
      "Epoch 12/20\n",
      "\u001b[1m152/152\u001b[0m \u001b[32m━━━━━━━━━━━━━━━━━━━━\u001b[0m\u001b[37m\u001b[0m \u001b[1m2s\u001b[0m 11ms/step - accuracy: 0.9158 - loss: 0.5361 - val_accuracy: 0.8702 - val_loss: 0.6091\n",
      "Epoch 13/20\n",
      "\u001b[1m152/152\u001b[0m \u001b[32m━━━━━━━━━━━━━━━━━━━━\u001b[0m\u001b[37m\u001b[0m \u001b[1m2s\u001b[0m 11ms/step - accuracy: 0.9209 - loss: 0.5224 - val_accuracy: 0.8821 - val_loss: 0.6055\n",
      "Epoch 14/20\n",
      "\u001b[1m152/152\u001b[0m \u001b[32m━━━━━━━━━━━━━━━━━━━━\u001b[0m\u001b[37m\u001b[0m \u001b[1m2s\u001b[0m 10ms/step - accuracy: 0.9211 - loss: 0.5107 - val_accuracy: 0.8833 - val_loss: 0.6006\n",
      "Epoch 15/20\n",
      "\u001b[1m152/152\u001b[0m \u001b[32m━━━━━━━━━━━━━━━━━━━━\u001b[0m\u001b[37m\u001b[0m \u001b[1m2s\u001b[0m 11ms/step - accuracy: 0.9257 - loss: 0.5064 - val_accuracy: 0.8804 - val_loss: 0.5963\n",
      "Epoch 16/20\n",
      "\u001b[1m152/152\u001b[0m \u001b[32m━━━━━━━━━━━━━━━━━━━━\u001b[0m\u001b[37m\u001b[0m \u001b[1m2s\u001b[0m 10ms/step - accuracy: 0.9261 - loss: 0.5015 - val_accuracy: 0.8875 - val_loss: 0.5891\n",
      "Epoch 17/20\n",
      "\u001b[1m152/152\u001b[0m \u001b[32m━━━━━━━━━━━━━━━━━━━━\u001b[0m\u001b[37m\u001b[0m \u001b[1m2s\u001b[0m 11ms/step - accuracy: 0.9295 - loss: 0.4889 - val_accuracy: 0.8845 - val_loss: 0.5844\n",
      "Epoch 18/20\n",
      "\u001b[1m152/152\u001b[0m \u001b[32m━━━━━━━━━━━━━━━━━━━━\u001b[0m\u001b[37m\u001b[0m \u001b[1m2s\u001b[0m 10ms/step - accuracy: 0.9297 - loss: 0.4870 - val_accuracy: 0.8881 - val_loss: 0.5822\n",
      "Epoch 19/20\n",
      "\u001b[1m152/152\u001b[0m \u001b[32m━━━━━━━━━━━━━━━━━━━━\u001b[0m\u001b[37m\u001b[0m \u001b[1m2s\u001b[0m 10ms/step - accuracy: 0.9330 - loss: 0.4774 - val_accuracy: 0.8929 - val_loss: 0.5823\n",
      "Epoch 20/20\n",
      "\u001b[1m152/152\u001b[0m \u001b[32m━━━━━━━━━━━━━━━━━━━━\u001b[0m\u001b[37m\u001b[0m \u001b[1m2s\u001b[0m 10ms/step - accuracy: 0.9299 - loss: 0.4835 - val_accuracy: 0.8929 - val_loss: 0.5627\n",
      "\u001b[1m132/132\u001b[0m \u001b[32m━━━━━━━━━━━━━━━━━━━━\u001b[0m\u001b[37m\u001b[0m \u001b[1m0s\u001b[0m 3ms/step\n",
      "done!\n",
      "              precision    recall  f1-score   support\n",
      "\n",
      "    Negative       0.88      0.87      0.87      1429\n",
      "     Neutral       0.91      0.95      0.93      1358\n",
      "    Positive       0.90      0.87      0.88      1413\n",
      "\n",
      "    accuracy                           0.90      4200\n",
      "   macro avg       0.90      0.90      0.90      4200\n",
      "weighted avg       0.90      0.90      0.90      4200\n",
      "\n",
      "CPU times: total: 24.5 s\n",
      "Wall time: 51.6 s\n"
     ]
    }
   ],
   "source": [
    "%%time\n",
    "\n",
    "label_encoder = LabelEncoder()\n",
    "y_encoded = label_encoder.fit_transform(y)\n",
    "\n",
    "X_train, X_test, y_train, y_test = train_test_split(X, y_encoded, test_size=0.2, random_state=42)\n",
    "\n",
    "vectorizer = TfidfVectorizer(max_features=4000)\n",
    "X_train_vec = vectorizer.fit_transform(X_train.values.astype('U')).toarray()\n",
    "X_test_vec = vectorizer.transform(X_test.values.astype('U')).toarray()\n",
    "\n",
    "ann_model = tf.keras.Sequential([\n",
    "    tf.keras.layers.Dense(256, input_shape=(X_train_vec.shape[1],), activation='relu', kernel_regularizer=tf.keras.regularizers.l2(0.01)),\n",
    "    tf.keras.layers.Dropout(0.3),\n",
    "    tf.keras.layers.Dense(128, activation='relu', kernel_regularizer=tf.keras.regularizers.l2(0.001)),\n",
    "    tf.keras.layers.Dropout(0.3),\n",
    "    tf.keras.layers.Dense(64, activation='relu', kernel_regularizer=tf.keras.regularizers.l2(0.001)),\n",
    "    tf.keras.layers.Dropout(0.3),\n",
    "    tf.keras.layers.Dense(len(label_encoder.classes_), activation='softmax')\n",
    "])\n",
    "\n",
    "ann_model.compile(optimizer='adam',loss='sparse_categorical_crossentropy',metrics=['accuracy'])\n",
    "\n",
    "ann_model.summary()\n",
    "\n",
    "# Define early stopping callback\n",
    "early_stopping = EarlyStopping(monitor='val_loss', patience=3, restore_best_weights=True)\n",
    "\n",
    "ann_model.fit(X_train_vec, y_train, epochs=20, batch_size=100, validation_split=0.1, verbose=1)\n",
    "\n",
    "print(\"Predicting with ANN model...\", end = \" \")\n",
    "ann_preds = ann_model.predict(X_test_vec).argmax(axis=1)\n",
    "print(\"done!\")\n",
    "\n",
    "class_report = classification_report(y_test, ann_preds, target_names=label_encoder.classes_)\n",
    "print(class_report)"
   ]
  },
  {
   "cell_type": "code",
   "execution_count": 8,
   "id": "e74f4007",
   "metadata": {},
   "outputs": [
    {
     "name": "stdout",
     "output_type": "stream",
     "text": [
      "Combining predictions... done!\n",
      "              precision    recall  f1-score   support\n",
      "\n",
      "    Negative       0.95      0.83      0.88      1429\n",
      "     Neutral       0.77      0.97      0.86      1358\n",
      "    Positive       0.96      0.84      0.89      1413\n",
      "\n",
      "    accuracy                           0.88      4200\n",
      "   macro avg       0.89      0.88      0.88      4200\n",
      "weighted avg       0.89      0.88      0.88      4200\n",
      "\n",
      "CPU Load     :  2.0\n",
      "RAM Used (GB): 20.185858048\n"
     ]
    },
    {
     "data": {
      "image/png": "[encoded data removed]",
      "text/plain": [
       "<Figure size 1000x600 with 1 Axes>"
      ]
     },
     "metadata": {},
     "output_type": "display_data"
    },
    {
     "name": "stdout",
     "output_type": "stream",
     "text": [
      "done!\n",
      "\n",
      "Total program execution time: 0:27:57.946938\n",
      "CPU times: total: 156 ms\n",
      "Wall time: 2.14 s\n"
     ]
    },
    {
     "data": {
      "text/plain": [
       "4876"
      ]
     },
     "execution_count": 8,
     "metadata": {},
     "output_type": "execute_result"
    }
   ],
   "source": [
    "%%time\n",
    "\n",
    "print(\"Combining predictions...\", end = \" \")\n",
    "final_preds = []\n",
    "for i in range(len(y_test)):\n",
    "    combined_pred = (ml_preds[i].argmax() + lstm_preds[i] + ann_preds[i]) / 3\n",
    "    final_preds.append(np.round(combined_pred).astype(int))\n",
    "\n",
    "final_preds = np.array(final_preds)\n",
    "print(\"done!\")\n",
    "\n",
    "# Generate the classification report\n",
    "class_report = classification_report(y_test, final_preds, target_names=label_encoder.classes_)\n",
    "print(class_report)\n",
    "\n",
    "print(\"CPU Load     : \", psutil.cpu_percent(1))\n",
    "print('RAM Used (GB):', psutil.virtual_memory()[3]/1000000000)\n",
    "\n",
    "# Extract precision, recall, and F1-score\n",
    "precision, recall, f1, _ = precision_recall_fscore_support(y_test, final_preds, average=None)\n",
    "\n",
    "# Plot precision, recall, and F1-score in a bar chart\n",
    "labels = label_encoder.classes_\n",
    "\n",
    "x = range(len(labels))\n",
    "\n",
    "plt.figure(figsize=(10, 6))\n",
    "bar_width = 0.2\n",
    "\n",
    "plt.bar(x, precision, width=bar_width, label='Precision', align='center')\n",
    "plt.bar([p + bar_width for p in x], recall, width=bar_width, label='Recall', align='center')\n",
    "plt.bar([p + bar_width * 2 for p in x], f1, width=bar_width, label='F1-Score', align='center')\n",
    "\n",
    "plt.xlabel('Sentiment Category')\n",
    "plt.ylabel('Scores')\n",
    "plt.title('Hybrid Predictive Model Classification Report Metrics for the Enron Dataset')\n",
    "plt.xticks([p + bar_width for p in x], labels)\n",
    "plt.ylim(0, 1.0)\n",
    "plt.legend()\n",
    "\n",
    "plt.savefig(outputDir + '\\\\Hybrid\\\\HybridModelEnron.png')\n",
    "\n",
    "plt.show()\n",
    "print(\"done!\")\n",
    "\n",
    "# Execution time\n",
    "end = datetime.datetime.now()\n",
    "duration = end - start\n",
    "print(\"\\nTotal program execution time:\", duration)\n",
    "\n",
    "# Garbage collection\n",
    "gc.collect()"
   ]
  }
 ],
 "metadata": {
  "kernelspec": {
   "display_name": "Python 3 (ipykernel)",
   "language": "python",
   "name": "python3"
  },
  "language_info": {
   "codemirror_mode": {
    "name": "ipython",
    "version": 3
   },
   "file_extension": ".py",
   "mimetype": "text/x-python",
   "name": "python",
   "nbconvert_exporter": "python",
   "pygments_lexer": "ipython3",
   "version": "3.11.5"
  }
 },
 "nbformat": 4,
 "nbformat_minor": 5
}
